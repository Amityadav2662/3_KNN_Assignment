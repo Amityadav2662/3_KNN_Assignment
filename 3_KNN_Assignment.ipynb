{
 "cells": [
  {
   "cell_type": "code",
   "execution_count": 104,
   "id": "63063b63-36f8-4faf-bc84-96b5486311f9",
   "metadata": {},
   "outputs": [],
   "source": [
    "# Q1. Write a Python code to implement the KNN classifier algorithm on load_iris dataset in\n",
    "# sklearn.datasets.\n",
    "import seaborn as sns \n",
    "df = sns.load_dataset('iris')"
   ]
  },
  {
   "cell_type": "code",
   "execution_count": 105,
   "id": "4d317c0c-2bbb-49b6-86af-9ba4970bc905",
   "metadata": {},
   "outputs": [
    {
     "data": {
      "text/html": [
       "<div>\n",
       "<style scoped>\n",
       "    .dataframe tbody tr th:only-of-type {\n",
       "        vertical-align: middle;\n",
       "    }\n",
       "\n",
       "    .dataframe tbody tr th {\n",
       "        vertical-align: top;\n",
       "    }\n",
       "\n",
       "    .dataframe thead th {\n",
       "        text-align: right;\n",
       "    }\n",
       "</style>\n",
       "<table border=\"1\" class=\"dataframe\">\n",
       "  <thead>\n",
       "    <tr style=\"text-align: right;\">\n",
       "      <th></th>\n",
       "      <th>sepal_length</th>\n",
       "      <th>sepal_width</th>\n",
       "      <th>petal_length</th>\n",
       "      <th>petal_width</th>\n",
       "      <th>species</th>\n",
       "    </tr>\n",
       "  </thead>\n",
       "  <tbody>\n",
       "    <tr>\n",
       "      <th>0</th>\n",
       "      <td>5.1</td>\n",
       "      <td>3.5</td>\n",
       "      <td>1.4</td>\n",
       "      <td>0.2</td>\n",
       "      <td>setosa</td>\n",
       "    </tr>\n",
       "    <tr>\n",
       "      <th>1</th>\n",
       "      <td>4.9</td>\n",
       "      <td>3.0</td>\n",
       "      <td>1.4</td>\n",
       "      <td>0.2</td>\n",
       "      <td>setosa</td>\n",
       "    </tr>\n",
       "    <tr>\n",
       "      <th>2</th>\n",
       "      <td>4.7</td>\n",
       "      <td>3.2</td>\n",
       "      <td>1.3</td>\n",
       "      <td>0.2</td>\n",
       "      <td>setosa</td>\n",
       "    </tr>\n",
       "    <tr>\n",
       "      <th>3</th>\n",
       "      <td>4.6</td>\n",
       "      <td>3.1</td>\n",
       "      <td>1.5</td>\n",
       "      <td>0.2</td>\n",
       "      <td>setosa</td>\n",
       "    </tr>\n",
       "    <tr>\n",
       "      <th>4</th>\n",
       "      <td>5.0</td>\n",
       "      <td>3.6</td>\n",
       "      <td>1.4</td>\n",
       "      <td>0.2</td>\n",
       "      <td>setosa</td>\n",
       "    </tr>\n",
       "  </tbody>\n",
       "</table>\n",
       "</div>"
      ],
      "text/plain": [
       "   sepal_length  sepal_width  petal_length  petal_width species\n",
       "0           5.1          3.5           1.4          0.2  setosa\n",
       "1           4.9          3.0           1.4          0.2  setosa\n",
       "2           4.7          3.2           1.3          0.2  setosa\n",
       "3           4.6          3.1           1.5          0.2  setosa\n",
       "4           5.0          3.6           1.4          0.2  setosa"
      ]
     },
     "execution_count": 105,
     "metadata": {},
     "output_type": "execute_result"
    }
   ],
   "source": [
    "df.head()"
   ]
  },
  {
   "cell_type": "code",
   "execution_count": 103,
   "id": "8dc6a2f4-7bf1-4fe8-b534-03663bb0a781",
   "metadata": {},
   "outputs": [
    {
     "data": {
      "text/plain": [
       "(506, 14)"
      ]
     },
     "execution_count": 103,
     "metadata": {},
     "output_type": "execute_result"
    }
   ],
   "source": [
    "df.shape"
   ]
  },
  {
   "cell_type": "code",
   "execution_count": 64,
   "id": "3647f927-13cf-45be-b122-a8d2c70cd2bb",
   "metadata": {},
   "outputs": [
    {
     "name": "stdout",
     "output_type": "stream",
     "text": [
      "<class 'pandas.core.frame.DataFrame'>\n",
      "RangeIndex: 150 entries, 0 to 149\n",
      "Data columns (total 5 columns):\n",
      " #   Column        Non-Null Count  Dtype  \n",
      "---  ------        --------------  -----  \n",
      " 0   sepal_length  150 non-null    float64\n",
      " 1   sepal_width   150 non-null    float64\n",
      " 2   petal_length  150 non-null    float64\n",
      " 3   petal_width   150 non-null    float64\n",
      " 4   species       150 non-null    object \n",
      "dtypes: float64(4), object(1)\n",
      "memory usage: 6.0+ KB\n"
     ]
    }
   ],
   "source": [
    "df.info()"
   ]
  },
  {
   "cell_type": "code",
   "execution_count": 65,
   "id": "93680956-5ee7-407b-be52-da13658ba054",
   "metadata": {},
   "outputs": [
    {
     "data": {
      "text/plain": [
       "sepal_length    0\n",
       "sepal_width     0\n",
       "petal_length    0\n",
       "petal_width     0\n",
       "species         0\n",
       "dtype: int64"
      ]
     },
     "execution_count": 65,
     "metadata": {},
     "output_type": "execute_result"
    }
   ],
   "source": [
    "df.isnull().sum()"
   ]
  },
  {
   "cell_type": "code",
   "execution_count": 66,
   "id": "47964925-d849-4fb1-a3f3-3759675206ca",
   "metadata": {},
   "outputs": [
    {
     "data": {
      "text/html": [
       "<div>\n",
       "<style scoped>\n",
       "    .dataframe tbody tr th:only-of-type {\n",
       "        vertical-align: middle;\n",
       "    }\n",
       "\n",
       "    .dataframe tbody tr th {\n",
       "        vertical-align: top;\n",
       "    }\n",
       "\n",
       "    .dataframe thead th {\n",
       "        text-align: right;\n",
       "    }\n",
       "</style>\n",
       "<table border=\"1\" class=\"dataframe\">\n",
       "  <thead>\n",
       "    <tr style=\"text-align: right;\">\n",
       "      <th></th>\n",
       "      <th>sepal_length</th>\n",
       "      <th>sepal_width</th>\n",
       "      <th>petal_length</th>\n",
       "      <th>petal_width</th>\n",
       "      <th>species</th>\n",
       "    </tr>\n",
       "  </thead>\n",
       "  <tbody>\n",
       "    <tr>\n",
       "      <th>142</th>\n",
       "      <td>5.8</td>\n",
       "      <td>2.7</td>\n",
       "      <td>5.1</td>\n",
       "      <td>1.9</td>\n",
       "      <td>virginica</td>\n",
       "    </tr>\n",
       "  </tbody>\n",
       "</table>\n",
       "</div>"
      ],
      "text/plain": [
       "     sepal_length  sepal_width  petal_length  petal_width    species\n",
       "142           5.8          2.7           5.1          1.9  virginica"
      ]
     },
     "execution_count": 66,
     "metadata": {},
     "output_type": "execute_result"
    }
   ],
   "source": [
    "df_drop = df[df.duplicated()]\n",
    "df_drop"
   ]
  },
  {
   "cell_type": "code",
   "execution_count": 67,
   "id": "c4f4e199-448b-48c7-a0bb-d87f7efe6d77",
   "metadata": {},
   "outputs": [],
   "source": [
    "df_drop = df.drop(df.index[142])"
   ]
  },
  {
   "cell_type": "code",
   "execution_count": 68,
   "id": "5bd4ee18-e2e4-4472-951d-f24b93d9f177",
   "metadata": {},
   "outputs": [
    {
     "data": {
      "text/plain": [
       "array(['setosa', 'versicolor', 'virginica'], dtype=object)"
      ]
     },
     "execution_count": 68,
     "metadata": {},
     "output_type": "execute_result"
    }
   ],
   "source": [
    "df['species'].unique()"
   ]
  },
  {
   "cell_type": "code",
   "execution_count": 69,
   "id": "dcea0077-62f8-4bc6-9602-daed34468fb5",
   "metadata": {},
   "outputs": [
    {
     "data": {
      "text/html": [
       "<div>\n",
       "<style scoped>\n",
       "    .dataframe tbody tr th:only-of-type {\n",
       "        vertical-align: middle;\n",
       "    }\n",
       "\n",
       "    .dataframe tbody tr th {\n",
       "        vertical-align: top;\n",
       "    }\n",
       "\n",
       "    .dataframe thead th {\n",
       "        text-align: right;\n",
       "    }\n",
       "</style>\n",
       "<table border=\"1\" class=\"dataframe\">\n",
       "  <thead>\n",
       "    <tr style=\"text-align: right;\">\n",
       "      <th></th>\n",
       "      <th>sepal_length</th>\n",
       "      <th>sepal_width</th>\n",
       "      <th>petal_length</th>\n",
       "      <th>petal_width</th>\n",
       "      <th>species</th>\n",
       "    </tr>\n",
       "  </thead>\n",
       "  <tbody>\n",
       "    <tr>\n",
       "      <th>0</th>\n",
       "      <td>5.1</td>\n",
       "      <td>3.5</td>\n",
       "      <td>1.4</td>\n",
       "      <td>0.2</td>\n",
       "      <td>0</td>\n",
       "    </tr>\n",
       "    <tr>\n",
       "      <th>1</th>\n",
       "      <td>4.9</td>\n",
       "      <td>3.0</td>\n",
       "      <td>1.4</td>\n",
       "      <td>0.2</td>\n",
       "      <td>0</td>\n",
       "    </tr>\n",
       "    <tr>\n",
       "      <th>2</th>\n",
       "      <td>4.7</td>\n",
       "      <td>3.2</td>\n",
       "      <td>1.3</td>\n",
       "      <td>0.2</td>\n",
       "      <td>0</td>\n",
       "    </tr>\n",
       "    <tr>\n",
       "      <th>3</th>\n",
       "      <td>4.6</td>\n",
       "      <td>3.1</td>\n",
       "      <td>1.5</td>\n",
       "      <td>0.2</td>\n",
       "      <td>0</td>\n",
       "    </tr>\n",
       "    <tr>\n",
       "      <th>4</th>\n",
       "      <td>5.0</td>\n",
       "      <td>3.6</td>\n",
       "      <td>1.4</td>\n",
       "      <td>0.2</td>\n",
       "      <td>0</td>\n",
       "    </tr>\n",
       "  </tbody>\n",
       "</table>\n",
       "</div>"
      ],
      "text/plain": [
       "   sepal_length  sepal_width  petal_length  petal_width  species\n",
       "0           5.1          3.5           1.4          0.2        0\n",
       "1           4.9          3.0           1.4          0.2        0\n",
       "2           4.7          3.2           1.3          0.2        0\n",
       "3           4.6          3.1           1.5          0.2        0\n",
       "4           5.0          3.6           1.4          0.2        0"
      ]
     },
     "execution_count": 69,
     "metadata": {},
     "output_type": "execute_result"
    }
   ],
   "source": [
    "from sklearn.preprocessing import LabelEncoder \n",
    "le = LabelEncoder()\n",
    "df['species'] = le.fit_transform(df['species'])\n",
    "df.head()"
   ]
  },
  {
   "cell_type": "code",
   "execution_count": 70,
   "id": "4db4235b-e662-4527-b324-b1d66799639d",
   "metadata": {},
   "outputs": [],
   "source": [
    "# Independent and dependent \n",
    "X = df.drop(labels=['species'],axis=1)\n",
    "y = df['species']"
   ]
  },
  {
   "cell_type": "code",
   "execution_count": 71,
   "id": "9f4fae91-7005-4536-9bb9-42d0976e4b02",
   "metadata": {},
   "outputs": [
    {
     "data": {
      "text/html": [
       "<div>\n",
       "<style scoped>\n",
       "    .dataframe tbody tr th:only-of-type {\n",
       "        vertical-align: middle;\n",
       "    }\n",
       "\n",
       "    .dataframe tbody tr th {\n",
       "        vertical-align: top;\n",
       "    }\n",
       "\n",
       "    .dataframe thead th {\n",
       "        text-align: right;\n",
       "    }\n",
       "</style>\n",
       "<table border=\"1\" class=\"dataframe\">\n",
       "  <thead>\n",
       "    <tr style=\"text-align: right;\">\n",
       "      <th></th>\n",
       "      <th>sepal_length</th>\n",
       "      <th>sepal_width</th>\n",
       "      <th>petal_length</th>\n",
       "      <th>petal_width</th>\n",
       "    </tr>\n",
       "  </thead>\n",
       "  <tbody>\n",
       "    <tr>\n",
       "      <th>0</th>\n",
       "      <td>5.1</td>\n",
       "      <td>3.5</td>\n",
       "      <td>1.4</td>\n",
       "      <td>0.2</td>\n",
       "    </tr>\n",
       "    <tr>\n",
       "      <th>1</th>\n",
       "      <td>4.9</td>\n",
       "      <td>3.0</td>\n",
       "      <td>1.4</td>\n",
       "      <td>0.2</td>\n",
       "    </tr>\n",
       "    <tr>\n",
       "      <th>2</th>\n",
       "      <td>4.7</td>\n",
       "      <td>3.2</td>\n",
       "      <td>1.3</td>\n",
       "      <td>0.2</td>\n",
       "    </tr>\n",
       "    <tr>\n",
       "      <th>3</th>\n",
       "      <td>4.6</td>\n",
       "      <td>3.1</td>\n",
       "      <td>1.5</td>\n",
       "      <td>0.2</td>\n",
       "    </tr>\n",
       "    <tr>\n",
       "      <th>4</th>\n",
       "      <td>5.0</td>\n",
       "      <td>3.6</td>\n",
       "      <td>1.4</td>\n",
       "      <td>0.2</td>\n",
       "    </tr>\n",
       "  </tbody>\n",
       "</table>\n",
       "</div>"
      ],
      "text/plain": [
       "   sepal_length  sepal_width  petal_length  petal_width\n",
       "0           5.1          3.5           1.4          0.2\n",
       "1           4.9          3.0           1.4          0.2\n",
       "2           4.7          3.2           1.3          0.2\n",
       "3           4.6          3.1           1.5          0.2\n",
       "4           5.0          3.6           1.4          0.2"
      ]
     },
     "execution_count": 71,
     "metadata": {},
     "output_type": "execute_result"
    }
   ],
   "source": [
    "X.head()"
   ]
  },
  {
   "cell_type": "code",
   "execution_count": 72,
   "id": "be812669-2f8d-47ce-858b-98b7d408c118",
   "metadata": {},
   "outputs": [
    {
     "data": {
      "text/plain": [
       "0      0\n",
       "1      0\n",
       "2      0\n",
       "3      0\n",
       "4      0\n",
       "      ..\n",
       "145    2\n",
       "146    2\n",
       "147    2\n",
       "148    2\n",
       "149    2\n",
       "Name: species, Length: 150, dtype: int64"
      ]
     },
     "execution_count": 72,
     "metadata": {},
     "output_type": "execute_result"
    }
   ],
   "source": [
    "y"
   ]
  },
  {
   "cell_type": "code",
   "execution_count": 73,
   "id": "8fd79eda-7771-463d-a8f4-dfdb0d0ef977",
   "metadata": {},
   "outputs": [],
   "source": [
    "from sklearn.model_selection import train_test_split\n",
    "X_train,X_test,y_train,y_test = train_test_split(X,y,test_size=0.33,random_state=42)"
   ]
  },
  {
   "cell_type": "code",
   "execution_count": 74,
   "id": "fc17e8f2-51cc-4517-a120-c7c8d439f068",
   "metadata": {},
   "outputs": [
    {
     "data": {
      "text/html": [
       "<style>#sk-container-id-3 {color: black;background-color: white;}#sk-container-id-3 pre{padding: 0;}#sk-container-id-3 div.sk-toggleable {background-color: white;}#sk-container-id-3 label.sk-toggleable__label {cursor: pointer;display: block;width: 100%;margin-bottom: 0;padding: 0.3em;box-sizing: border-box;text-align: center;}#sk-container-id-3 label.sk-toggleable__label-arrow:before {content: \"▸\";float: left;margin-right: 0.25em;color: #696969;}#sk-container-id-3 label.sk-toggleable__label-arrow:hover:before {color: black;}#sk-container-id-3 div.sk-estimator:hover label.sk-toggleable__label-arrow:before {color: black;}#sk-container-id-3 div.sk-toggleable__content {max-height: 0;max-width: 0;overflow: hidden;text-align: left;background-color: #f0f8ff;}#sk-container-id-3 div.sk-toggleable__content pre {margin: 0.2em;color: black;border-radius: 0.25em;background-color: #f0f8ff;}#sk-container-id-3 input.sk-toggleable__control:checked~div.sk-toggleable__content {max-height: 200px;max-width: 100%;overflow: auto;}#sk-container-id-3 input.sk-toggleable__control:checked~label.sk-toggleable__label-arrow:before {content: \"▾\";}#sk-container-id-3 div.sk-estimator input.sk-toggleable__control:checked~label.sk-toggleable__label {background-color: #d4ebff;}#sk-container-id-3 div.sk-label input.sk-toggleable__control:checked~label.sk-toggleable__label {background-color: #d4ebff;}#sk-container-id-3 input.sk-hidden--visually {border: 0;clip: rect(1px 1px 1px 1px);clip: rect(1px, 1px, 1px, 1px);height: 1px;margin: -1px;overflow: hidden;padding: 0;position: absolute;width: 1px;}#sk-container-id-3 div.sk-estimator {font-family: monospace;background-color: #f0f8ff;border: 1px dotted black;border-radius: 0.25em;box-sizing: border-box;margin-bottom: 0.5em;}#sk-container-id-3 div.sk-estimator:hover {background-color: #d4ebff;}#sk-container-id-3 div.sk-parallel-item::after {content: \"\";width: 100%;border-bottom: 1px solid gray;flex-grow: 1;}#sk-container-id-3 div.sk-label:hover label.sk-toggleable__label {background-color: #d4ebff;}#sk-container-id-3 div.sk-serial::before {content: \"\";position: absolute;border-left: 1px solid gray;box-sizing: border-box;top: 0;bottom: 0;left: 50%;z-index: 0;}#sk-container-id-3 div.sk-serial {display: flex;flex-direction: column;align-items: center;background-color: white;padding-right: 0.2em;padding-left: 0.2em;position: relative;}#sk-container-id-3 div.sk-item {position: relative;z-index: 1;}#sk-container-id-3 div.sk-parallel {display: flex;align-items: stretch;justify-content: center;background-color: white;position: relative;}#sk-container-id-3 div.sk-item::before, #sk-container-id-3 div.sk-parallel-item::before {content: \"\";position: absolute;border-left: 1px solid gray;box-sizing: border-box;top: 0;bottom: 0;left: 50%;z-index: -1;}#sk-container-id-3 div.sk-parallel-item {display: flex;flex-direction: column;z-index: 1;position: relative;background-color: white;}#sk-container-id-3 div.sk-parallel-item:first-child::after {align-self: flex-end;width: 50%;}#sk-container-id-3 div.sk-parallel-item:last-child::after {align-self: flex-start;width: 50%;}#sk-container-id-3 div.sk-parallel-item:only-child::after {width: 0;}#sk-container-id-3 div.sk-dashed-wrapped {border: 1px dashed gray;margin: 0 0.4em 0.5em 0.4em;box-sizing: border-box;padding-bottom: 0.4em;background-color: white;}#sk-container-id-3 div.sk-label label {font-family: monospace;font-weight: bold;display: inline-block;line-height: 1.2em;}#sk-container-id-3 div.sk-label-container {text-align: center;}#sk-container-id-3 div.sk-container {/* jupyter's `normalize.less` sets `[hidden] { display: none; }` but bootstrap.min.css set `[hidden] { display: none !important; }` so we also need the `!important` here to be able to override the default hidden behavior on the sphinx rendered scikit-learn.org. See: https://github.com/scikit-learn/scikit-learn/issues/21755 */display: inline-block !important;position: relative;}#sk-container-id-3 div.sk-text-repr-fallback {display: none;}</style><div id=\"sk-container-id-3\" class=\"sk-top-container\"><div class=\"sk-text-repr-fallback\"><pre>KNeighborsClassifier(n_neighbors=6)</pre><b>In a Jupyter environment, please rerun this cell to show the HTML representation or trust the notebook. <br />On GitHub, the HTML representation is unable to render, please try loading this page with nbviewer.org.</b></div><div class=\"sk-container\" hidden><div class=\"sk-item\"><div class=\"sk-estimator sk-toggleable\"><input class=\"sk-toggleable__control sk-hidden--visually\" id=\"sk-estimator-id-3\" type=\"checkbox\" checked><label for=\"sk-estimator-id-3\" class=\"sk-toggleable__label sk-toggleable__label-arrow\">KNeighborsClassifier</label><div class=\"sk-toggleable__content\"><pre>KNeighborsClassifier(n_neighbors=6)</pre></div></div></div></div></div>"
      ],
      "text/plain": [
       "KNeighborsClassifier(n_neighbors=6)"
      ]
     },
     "execution_count": 74,
     "metadata": {},
     "output_type": "execute_result"
    }
   ],
   "source": [
    "from sklearn.neighbors import KNeighborsClassifier\n",
    "KNC = KNeighborsClassifier(n_neighbors=6,algorithm='auto')\n",
    "KNC.fit(X_train,y_train)"
   ]
  },
  {
   "cell_type": "code",
   "execution_count": 75,
   "id": "7c20d9f0-cf04-4466-9033-fa1cc4b3b6f1",
   "metadata": {},
   "outputs": [
    {
     "data": {
      "text/plain": [
       "array([1, 0, 2, 1, 1, 0, 1, 2, 1, 1, 2, 0, 0, 0, 0, 1, 2, 1, 1, 2, 0, 2,\n",
       "       0, 2, 2, 2, 2, 2, 0, 0, 0, 0, 1, 0, 0, 2, 1, 0, 0, 0, 2, 1, 1, 0,\n",
       "       0, 1, 1, 2, 1, 2])"
      ]
     },
     "execution_count": 75,
     "metadata": {},
     "output_type": "execute_result"
    }
   ],
   "source": [
    "y_pred = KNC.predict(X_test)\n",
    "y_pred"
   ]
  },
  {
   "cell_type": "code",
   "execution_count": 76,
   "id": "3dad093b-39f5-4d98-86b7-51aae467e7b0",
   "metadata": {},
   "outputs": [
    {
     "name": "stdout",
     "output_type": "stream",
     "text": [
      "Accuracy_Score : 0.98\n",
      "Confusion_Matrix :\n",
      " [[19  0  0]\n",
      " [ 0 15  0]\n",
      " [ 0  1 15]]\n",
      "\n",
      "Classification_Report :\n",
      "               precision    recall  f1-score   support\n",
      "\n",
      "           0       1.00      1.00      1.00        19\n",
      "           1       0.94      1.00      0.97        15\n",
      "           2       1.00      0.94      0.97        16\n",
      "\n",
      "    accuracy                           0.98        50\n",
      "   macro avg       0.98      0.98      0.98        50\n",
      "weighted avg       0.98      0.98      0.98        50\n",
      "\n"
     ]
    }
   ],
   "source": [
    "from sklearn.metrics import accuracy_score,classification_report,confusion_matrix\n",
    "print('Accuracy_Score :',accuracy_score(y_test,y_pred))\n",
    "print('Confusion_Matrix :\\n',confusion_matrix(y_test,y_pred))\n",
    "print('\\nClassification_Report :\\n',classification_report(y_test,y_pred))"
   ]
  },
  {
   "cell_type": "code",
   "execution_count": 77,
   "id": "e8dbe7ee-4dfb-4d12-bae2-dc6d4e6cf93e",
   "metadata": {},
   "outputs": [
    {
     "data": {
      "text/html": [
       "<div>\n",
       "<style scoped>\n",
       "    .dataframe tbody tr th:only-of-type {\n",
       "        vertical-align: middle;\n",
       "    }\n",
       "\n",
       "    .dataframe tbody tr th {\n",
       "        vertical-align: top;\n",
       "    }\n",
       "\n",
       "    .dataframe thead th {\n",
       "        text-align: right;\n",
       "    }\n",
       "</style>\n",
       "<table border=\"1\" class=\"dataframe\">\n",
       "  <thead>\n",
       "    <tr style=\"text-align: right;\">\n",
       "      <th></th>\n",
       "      <th>crim</th>\n",
       "      <th>zn</th>\n",
       "      <th>indus</th>\n",
       "      <th>chas</th>\n",
       "      <th>nox</th>\n",
       "      <th>rm</th>\n",
       "      <th>age</th>\n",
       "      <th>dis</th>\n",
       "      <th>rad</th>\n",
       "      <th>tax</th>\n",
       "      <th>ptratio</th>\n",
       "      <th>b</th>\n",
       "      <th>lstat</th>\n",
       "      <th>medv</th>\n",
       "    </tr>\n",
       "  </thead>\n",
       "  <tbody>\n",
       "    <tr>\n",
       "      <th>0</th>\n",
       "      <td>0.00632</td>\n",
       "      <td>18.0</td>\n",
       "      <td>2.31</td>\n",
       "      <td>0</td>\n",
       "      <td>0.538</td>\n",
       "      <td>6.575</td>\n",
       "      <td>65.2</td>\n",
       "      <td>4.0900</td>\n",
       "      <td>1</td>\n",
       "      <td>296</td>\n",
       "      <td>15.3</td>\n",
       "      <td>396.90</td>\n",
       "      <td>4.98</td>\n",
       "      <td>24.0</td>\n",
       "    </tr>\n",
       "    <tr>\n",
       "      <th>1</th>\n",
       "      <td>0.02731</td>\n",
       "      <td>0.0</td>\n",
       "      <td>7.07</td>\n",
       "      <td>0</td>\n",
       "      <td>0.469</td>\n",
       "      <td>6.421</td>\n",
       "      <td>78.9</td>\n",
       "      <td>4.9671</td>\n",
       "      <td>2</td>\n",
       "      <td>242</td>\n",
       "      <td>17.8</td>\n",
       "      <td>396.90</td>\n",
       "      <td>9.14</td>\n",
       "      <td>21.6</td>\n",
       "    </tr>\n",
       "    <tr>\n",
       "      <th>2</th>\n",
       "      <td>0.02729</td>\n",
       "      <td>0.0</td>\n",
       "      <td>7.07</td>\n",
       "      <td>0</td>\n",
       "      <td>0.469</td>\n",
       "      <td>7.185</td>\n",
       "      <td>61.1</td>\n",
       "      <td>4.9671</td>\n",
       "      <td>2</td>\n",
       "      <td>242</td>\n",
       "      <td>17.8</td>\n",
       "      <td>392.83</td>\n",
       "      <td>4.03</td>\n",
       "      <td>34.7</td>\n",
       "    </tr>\n",
       "    <tr>\n",
       "      <th>3</th>\n",
       "      <td>0.03237</td>\n",
       "      <td>0.0</td>\n",
       "      <td>2.18</td>\n",
       "      <td>0</td>\n",
       "      <td>0.458</td>\n",
       "      <td>6.998</td>\n",
       "      <td>45.8</td>\n",
       "      <td>6.0622</td>\n",
       "      <td>3</td>\n",
       "      <td>222</td>\n",
       "      <td>18.7</td>\n",
       "      <td>394.63</td>\n",
       "      <td>2.94</td>\n",
       "      <td>33.4</td>\n",
       "    </tr>\n",
       "    <tr>\n",
       "      <th>4</th>\n",
       "      <td>0.06905</td>\n",
       "      <td>0.0</td>\n",
       "      <td>2.18</td>\n",
       "      <td>0</td>\n",
       "      <td>0.458</td>\n",
       "      <td>7.147</td>\n",
       "      <td>54.2</td>\n",
       "      <td>6.0622</td>\n",
       "      <td>3</td>\n",
       "      <td>222</td>\n",
       "      <td>18.7</td>\n",
       "      <td>396.90</td>\n",
       "      <td>5.33</td>\n",
       "      <td>36.2</td>\n",
       "    </tr>\n",
       "  </tbody>\n",
       "</table>\n",
       "</div>"
      ],
      "text/plain": [
       "      crim    zn  indus  chas    nox     rm   age     dis  rad  tax  ptratio  \\\n",
       "0  0.00632  18.0   2.31     0  0.538  6.575  65.2  4.0900    1  296     15.3   \n",
       "1  0.02731   0.0   7.07     0  0.469  6.421  78.9  4.9671    2  242     17.8   \n",
       "2  0.02729   0.0   7.07     0  0.469  7.185  61.1  4.9671    2  242     17.8   \n",
       "3  0.03237   0.0   2.18     0  0.458  6.998  45.8  6.0622    3  222     18.7   \n",
       "4  0.06905   0.0   2.18     0  0.458  7.147  54.2  6.0622    3  222     18.7   \n",
       "\n",
       "        b  lstat  medv  \n",
       "0  396.90   4.98  24.0  \n",
       "1  396.90   9.14  21.6  \n",
       "2  392.83   4.03  34.7  \n",
       "3  394.63   2.94  33.4  \n",
       "4  396.90   5.33  36.2  "
      ]
     },
     "execution_count": 77,
     "metadata": {},
     "output_type": "execute_result"
    }
   ],
   "source": [
    "# Q2. Write a Python code to implement the KNN regressor algorithm on load_boston dataset in\n",
    "# sklearn.datasets.\n",
    "import pandas as pd\n",
    "df = pd.read_csv('https://raw.githubusercontent.com/selva86/datasets/master/BostonHousing.csv')\n",
    "df.head()"
   ]
  },
  {
   "cell_type": "code",
   "execution_count": 78,
   "id": "2cb81c90-fd98-4a54-bbf0-986972fe46e5",
   "metadata": {},
   "outputs": [
    {
     "data": {
      "text/plain": [
       "(506, 14)"
      ]
     },
     "execution_count": 78,
     "metadata": {},
     "output_type": "execute_result"
    }
   ],
   "source": [
    "df.shape"
   ]
  },
  {
   "cell_type": "code",
   "execution_count": 79,
   "id": "75c53b70-fd72-4de2-9d1e-92177e7025e7",
   "metadata": {},
   "outputs": [
    {
     "name": "stdout",
     "output_type": "stream",
     "text": [
      "<class 'pandas.core.frame.DataFrame'>\n",
      "RangeIndex: 506 entries, 0 to 505\n",
      "Data columns (total 14 columns):\n",
      " #   Column   Non-Null Count  Dtype  \n",
      "---  ------   --------------  -----  \n",
      " 0   crim     506 non-null    float64\n",
      " 1   zn       506 non-null    float64\n",
      " 2   indus    506 non-null    float64\n",
      " 3   chas     506 non-null    int64  \n",
      " 4   nox      506 non-null    float64\n",
      " 5   rm       506 non-null    float64\n",
      " 6   age      506 non-null    float64\n",
      " 7   dis      506 non-null    float64\n",
      " 8   rad      506 non-null    int64  \n",
      " 9   tax      506 non-null    int64  \n",
      " 10  ptratio  506 non-null    float64\n",
      " 11  b        506 non-null    float64\n",
      " 12  lstat    506 non-null    float64\n",
      " 13  medv     506 non-null    float64\n",
      "dtypes: float64(11), int64(3)\n",
      "memory usage: 55.5 KB\n"
     ]
    }
   ],
   "source": [
    "df.info()"
   ]
  },
  {
   "cell_type": "code",
   "execution_count": 80,
   "id": "d65178f0-b3e0-47dc-9dbb-e6e1ab183037",
   "metadata": {},
   "outputs": [
    {
     "data": {
      "text/plain": [
       "crim       0\n",
       "zn         0\n",
       "indus      0\n",
       "chas       0\n",
       "nox        0\n",
       "rm         0\n",
       "age        0\n",
       "dis        0\n",
       "rad        0\n",
       "tax        0\n",
       "ptratio    0\n",
       "b          0\n",
       "lstat      0\n",
       "medv       0\n",
       "dtype: int64"
      ]
     },
     "execution_count": 80,
     "metadata": {},
     "output_type": "execute_result"
    }
   ],
   "source": [
    "df.isnull().sum()"
   ]
  },
  {
   "cell_type": "code",
   "execution_count": 81,
   "id": "cc4ad73c-eae9-46d9-9d9d-9ce4edb4c080",
   "metadata": {},
   "outputs": [
    {
     "data": {
      "text/html": [
       "<div>\n",
       "<style scoped>\n",
       "    .dataframe tbody tr th:only-of-type {\n",
       "        vertical-align: middle;\n",
       "    }\n",
       "\n",
       "    .dataframe tbody tr th {\n",
       "        vertical-align: top;\n",
       "    }\n",
       "\n",
       "    .dataframe thead th {\n",
       "        text-align: right;\n",
       "    }\n",
       "</style>\n",
       "<table border=\"1\" class=\"dataframe\">\n",
       "  <thead>\n",
       "    <tr style=\"text-align: right;\">\n",
       "      <th></th>\n",
       "      <th>crim</th>\n",
       "      <th>zn</th>\n",
       "      <th>indus</th>\n",
       "      <th>chas</th>\n",
       "      <th>nox</th>\n",
       "      <th>rm</th>\n",
       "      <th>age</th>\n",
       "      <th>dis</th>\n",
       "      <th>rad</th>\n",
       "      <th>tax</th>\n",
       "      <th>ptratio</th>\n",
       "      <th>b</th>\n",
       "      <th>lstat</th>\n",
       "      <th>medv</th>\n",
       "    </tr>\n",
       "  </thead>\n",
       "  <tbody>\n",
       "  </tbody>\n",
       "</table>\n",
       "</div>"
      ],
      "text/plain": [
       "Empty DataFrame\n",
       "Columns: [crim, zn, indus, chas, nox, rm, age, dis, rad, tax, ptratio, b, lstat, medv]\n",
       "Index: []"
      ]
     },
     "execution_count": 81,
     "metadata": {},
     "output_type": "execute_result"
    }
   ],
   "source": [
    "df[df.duplicated()]"
   ]
  },
  {
   "cell_type": "code",
   "execution_count": 82,
   "id": "59a9b334-c521-4369-b873-cb742c11427c",
   "metadata": {},
   "outputs": [],
   "source": [
    "# Independent and dependent\n",
    "X = df.drop(labels=['medv'],axis=1)\n",
    "y = df['medv']"
   ]
  },
  {
   "cell_type": "code",
   "execution_count": 83,
   "id": "d4a860e6-cb6f-4399-82f8-564d4afb2d71",
   "metadata": {},
   "outputs": [
    {
     "data": {
      "text/html": [
       "<div>\n",
       "<style scoped>\n",
       "    .dataframe tbody tr th:only-of-type {\n",
       "        vertical-align: middle;\n",
       "    }\n",
       "\n",
       "    .dataframe tbody tr th {\n",
       "        vertical-align: top;\n",
       "    }\n",
       "\n",
       "    .dataframe thead th {\n",
       "        text-align: right;\n",
       "    }\n",
       "</style>\n",
       "<table border=\"1\" class=\"dataframe\">\n",
       "  <thead>\n",
       "    <tr style=\"text-align: right;\">\n",
       "      <th></th>\n",
       "      <th>crim</th>\n",
       "      <th>zn</th>\n",
       "      <th>indus</th>\n",
       "      <th>chas</th>\n",
       "      <th>nox</th>\n",
       "      <th>rm</th>\n",
       "      <th>age</th>\n",
       "      <th>dis</th>\n",
       "      <th>rad</th>\n",
       "      <th>tax</th>\n",
       "      <th>ptratio</th>\n",
       "      <th>b</th>\n",
       "      <th>lstat</th>\n",
       "    </tr>\n",
       "  </thead>\n",
       "  <tbody>\n",
       "    <tr>\n",
       "      <th>0</th>\n",
       "      <td>0.00632</td>\n",
       "      <td>18.0</td>\n",
       "      <td>2.31</td>\n",
       "      <td>0</td>\n",
       "      <td>0.538</td>\n",
       "      <td>6.575</td>\n",
       "      <td>65.2</td>\n",
       "      <td>4.0900</td>\n",
       "      <td>1</td>\n",
       "      <td>296</td>\n",
       "      <td>15.3</td>\n",
       "      <td>396.90</td>\n",
       "      <td>4.98</td>\n",
       "    </tr>\n",
       "    <tr>\n",
       "      <th>1</th>\n",
       "      <td>0.02731</td>\n",
       "      <td>0.0</td>\n",
       "      <td>7.07</td>\n",
       "      <td>0</td>\n",
       "      <td>0.469</td>\n",
       "      <td>6.421</td>\n",
       "      <td>78.9</td>\n",
       "      <td>4.9671</td>\n",
       "      <td>2</td>\n",
       "      <td>242</td>\n",
       "      <td>17.8</td>\n",
       "      <td>396.90</td>\n",
       "      <td>9.14</td>\n",
       "    </tr>\n",
       "    <tr>\n",
       "      <th>2</th>\n",
       "      <td>0.02729</td>\n",
       "      <td>0.0</td>\n",
       "      <td>7.07</td>\n",
       "      <td>0</td>\n",
       "      <td>0.469</td>\n",
       "      <td>7.185</td>\n",
       "      <td>61.1</td>\n",
       "      <td>4.9671</td>\n",
       "      <td>2</td>\n",
       "      <td>242</td>\n",
       "      <td>17.8</td>\n",
       "      <td>392.83</td>\n",
       "      <td>4.03</td>\n",
       "    </tr>\n",
       "    <tr>\n",
       "      <th>3</th>\n",
       "      <td>0.03237</td>\n",
       "      <td>0.0</td>\n",
       "      <td>2.18</td>\n",
       "      <td>0</td>\n",
       "      <td>0.458</td>\n",
       "      <td>6.998</td>\n",
       "      <td>45.8</td>\n",
       "      <td>6.0622</td>\n",
       "      <td>3</td>\n",
       "      <td>222</td>\n",
       "      <td>18.7</td>\n",
       "      <td>394.63</td>\n",
       "      <td>2.94</td>\n",
       "    </tr>\n",
       "    <tr>\n",
       "      <th>4</th>\n",
       "      <td>0.06905</td>\n",
       "      <td>0.0</td>\n",
       "      <td>2.18</td>\n",
       "      <td>0</td>\n",
       "      <td>0.458</td>\n",
       "      <td>7.147</td>\n",
       "      <td>54.2</td>\n",
       "      <td>6.0622</td>\n",
       "      <td>3</td>\n",
       "      <td>222</td>\n",
       "      <td>18.7</td>\n",
       "      <td>396.90</td>\n",
       "      <td>5.33</td>\n",
       "    </tr>\n",
       "  </tbody>\n",
       "</table>\n",
       "</div>"
      ],
      "text/plain": [
       "      crim    zn  indus  chas    nox     rm   age     dis  rad  tax  ptratio  \\\n",
       "0  0.00632  18.0   2.31     0  0.538  6.575  65.2  4.0900    1  296     15.3   \n",
       "1  0.02731   0.0   7.07     0  0.469  6.421  78.9  4.9671    2  242     17.8   \n",
       "2  0.02729   0.0   7.07     0  0.469  7.185  61.1  4.9671    2  242     17.8   \n",
       "3  0.03237   0.0   2.18     0  0.458  6.998  45.8  6.0622    3  222     18.7   \n",
       "4  0.06905   0.0   2.18     0  0.458  7.147  54.2  6.0622    3  222     18.7   \n",
       "\n",
       "        b  lstat  \n",
       "0  396.90   4.98  \n",
       "1  396.90   9.14  \n",
       "2  392.83   4.03  \n",
       "3  394.63   2.94  \n",
       "4  396.90   5.33  "
      ]
     },
     "execution_count": 83,
     "metadata": {},
     "output_type": "execute_result"
    }
   ],
   "source": [
    "X.head()"
   ]
  },
  {
   "cell_type": "code",
   "execution_count": 84,
   "id": "3b65514b-4cdf-4e47-996d-7f8d939dd62b",
   "metadata": {},
   "outputs": [
    {
     "data": {
      "text/plain": [
       "0      24.0\n",
       "1      21.6\n",
       "2      34.7\n",
       "3      33.4\n",
       "4      36.2\n",
       "       ... \n",
       "501    22.4\n",
       "502    20.6\n",
       "503    23.9\n",
       "504    22.0\n",
       "505    11.9\n",
       "Name: medv, Length: 506, dtype: float64"
      ]
     },
     "execution_count": 84,
     "metadata": {},
     "output_type": "execute_result"
    }
   ],
   "source": [
    "y"
   ]
  },
  {
   "cell_type": "code",
   "execution_count": 85,
   "id": "0307af08-415a-4cc0-ba60-19928b5e524f",
   "metadata": {},
   "outputs": [],
   "source": [
    "from sklearn.model_selection import train_test_split\n",
    "X_train,X_test,y_train,y_test = train_test_split(X,y,test_size=0.20,random_state=45)"
   ]
  },
  {
   "cell_type": "code",
   "execution_count": 86,
   "id": "10e32dda-71c7-4df4-802d-297edaa3d771",
   "metadata": {},
   "outputs": [
    {
     "data": {
      "text/html": [
       "<style>#sk-container-id-4 {color: black;background-color: white;}#sk-container-id-4 pre{padding: 0;}#sk-container-id-4 div.sk-toggleable {background-color: white;}#sk-container-id-4 label.sk-toggleable__label {cursor: pointer;display: block;width: 100%;margin-bottom: 0;padding: 0.3em;box-sizing: border-box;text-align: center;}#sk-container-id-4 label.sk-toggleable__label-arrow:before {content: \"▸\";float: left;margin-right: 0.25em;color: #696969;}#sk-container-id-4 label.sk-toggleable__label-arrow:hover:before {color: black;}#sk-container-id-4 div.sk-estimator:hover label.sk-toggleable__label-arrow:before {color: black;}#sk-container-id-4 div.sk-toggleable__content {max-height: 0;max-width: 0;overflow: hidden;text-align: left;background-color: #f0f8ff;}#sk-container-id-4 div.sk-toggleable__content pre {margin: 0.2em;color: black;border-radius: 0.25em;background-color: #f0f8ff;}#sk-container-id-4 input.sk-toggleable__control:checked~div.sk-toggleable__content {max-height: 200px;max-width: 100%;overflow: auto;}#sk-container-id-4 input.sk-toggleable__control:checked~label.sk-toggleable__label-arrow:before {content: \"▾\";}#sk-container-id-4 div.sk-estimator input.sk-toggleable__control:checked~label.sk-toggleable__label {background-color: #d4ebff;}#sk-container-id-4 div.sk-label input.sk-toggleable__control:checked~label.sk-toggleable__label {background-color: #d4ebff;}#sk-container-id-4 input.sk-hidden--visually {border: 0;clip: rect(1px 1px 1px 1px);clip: rect(1px, 1px, 1px, 1px);height: 1px;margin: -1px;overflow: hidden;padding: 0;position: absolute;width: 1px;}#sk-container-id-4 div.sk-estimator {font-family: monospace;background-color: #f0f8ff;border: 1px dotted black;border-radius: 0.25em;box-sizing: border-box;margin-bottom: 0.5em;}#sk-container-id-4 div.sk-estimator:hover {background-color: #d4ebff;}#sk-container-id-4 div.sk-parallel-item::after {content: \"\";width: 100%;border-bottom: 1px solid gray;flex-grow: 1;}#sk-container-id-4 div.sk-label:hover label.sk-toggleable__label {background-color: #d4ebff;}#sk-container-id-4 div.sk-serial::before {content: \"\";position: absolute;border-left: 1px solid gray;box-sizing: border-box;top: 0;bottom: 0;left: 50%;z-index: 0;}#sk-container-id-4 div.sk-serial {display: flex;flex-direction: column;align-items: center;background-color: white;padding-right: 0.2em;padding-left: 0.2em;position: relative;}#sk-container-id-4 div.sk-item {position: relative;z-index: 1;}#sk-container-id-4 div.sk-parallel {display: flex;align-items: stretch;justify-content: center;background-color: white;position: relative;}#sk-container-id-4 div.sk-item::before, #sk-container-id-4 div.sk-parallel-item::before {content: \"\";position: absolute;border-left: 1px solid gray;box-sizing: border-box;top: 0;bottom: 0;left: 50%;z-index: -1;}#sk-container-id-4 div.sk-parallel-item {display: flex;flex-direction: column;z-index: 1;position: relative;background-color: white;}#sk-container-id-4 div.sk-parallel-item:first-child::after {align-self: flex-end;width: 50%;}#sk-container-id-4 div.sk-parallel-item:last-child::after {align-self: flex-start;width: 50%;}#sk-container-id-4 div.sk-parallel-item:only-child::after {width: 0;}#sk-container-id-4 div.sk-dashed-wrapped {border: 1px dashed gray;margin: 0 0.4em 0.5em 0.4em;box-sizing: border-box;padding-bottom: 0.4em;background-color: white;}#sk-container-id-4 div.sk-label label {font-family: monospace;font-weight: bold;display: inline-block;line-height: 1.2em;}#sk-container-id-4 div.sk-label-container {text-align: center;}#sk-container-id-4 div.sk-container {/* jupyter's `normalize.less` sets `[hidden] { display: none; }` but bootstrap.min.css set `[hidden] { display: none !important; }` so we also need the `!important` here to be able to override the default hidden behavior on the sphinx rendered scikit-learn.org. See: https://github.com/scikit-learn/scikit-learn/issues/21755 */display: inline-block !important;position: relative;}#sk-container-id-4 div.sk-text-repr-fallback {display: none;}</style><div id=\"sk-container-id-4\" class=\"sk-top-container\"><div class=\"sk-text-repr-fallback\"><pre>KNeighborsRegressor(n_neighbors=10)</pre><b>In a Jupyter environment, please rerun this cell to show the HTML representation or trust the notebook. <br />On GitHub, the HTML representation is unable to render, please try loading this page with nbviewer.org.</b></div><div class=\"sk-container\" hidden><div class=\"sk-item\"><div class=\"sk-estimator sk-toggleable\"><input class=\"sk-toggleable__control sk-hidden--visually\" id=\"sk-estimator-id-4\" type=\"checkbox\" checked><label for=\"sk-estimator-id-4\" class=\"sk-toggleable__label sk-toggleable__label-arrow\">KNeighborsRegressor</label><div class=\"sk-toggleable__content\"><pre>KNeighborsRegressor(n_neighbors=10)</pre></div></div></div></div></div>"
      ],
      "text/plain": [
       "KNeighborsRegressor(n_neighbors=10)"
      ]
     },
     "execution_count": 86,
     "metadata": {},
     "output_type": "execute_result"
    }
   ],
   "source": [
    "from sklearn.neighbors import KNeighborsRegressor\n",
    "KNR = KNeighborsRegressor(n_neighbors=10,algorithm='auto')\n",
    "KNR.fit(X_train,y_train)"
   ]
  },
  {
   "cell_type": "code",
   "execution_count": 88,
   "id": "cda83d2e-b963-4cfe-aa3f-a364c8ab8dd9",
   "metadata": {},
   "outputs": [],
   "source": [
    "y_pred = KNR.predict(X_test)"
   ]
  },
  {
   "cell_type": "code",
   "execution_count": 90,
   "id": "3d40efb1-813a-4ffb-aeb2-732921ab4238",
   "metadata": {},
   "outputs": [
    {
     "name": "stdout",
     "output_type": "stream",
     "text": [
      "R2_Score : 0.42730363119703896\n",
      "MSE : 61.895863725490194\n",
      "MAE : 5.4322549019607855\n"
     ]
    }
   ],
   "source": [
    "from sklearn.metrics import r2_score,mean_squared_error,mean_absolute_error\n",
    "print('R2_Score :',r2_score(y_test,y_pred))\n",
    "print('MSE :',mean_squared_error(y_test,y_pred))\n",
    "print('MAE :',mean_absolute_error(y_test,y_pred))"
   ]
  },
  {
   "cell_type": "code",
   "execution_count": 92,
   "id": "dad8529e-35e5-4c25-9a94-1c9a1819fabe",
   "metadata": {},
   "outputs": [],
   "source": [
    "# Hyperparameter tunning \n",
    "parameter = {\n",
    "    'n_neighbors': [3, 5, 7, 9, 11],  \n",
    "    'weights': ['uniform', 'distance'], \n",
    "    'algorithm': ['auto', 'ball_tree', 'kd_tree', 'brute'],  \n",
    "    'p': [1, 2] \n",
    "}"
   ]
  },
  {
   "cell_type": "code",
   "execution_count": 94,
   "id": "2133255d-a1c8-4c64-b214-821dd8856a9d",
   "metadata": {},
   "outputs": [
    {
     "name": "stdout",
     "output_type": "stream",
     "text": [
      "Fitting 5 folds for each of 80 candidates, totalling 400 fits\n",
      "[CV 1/5] END algorithm=auto, n_neighbors=3, p=1, weights=uniform;, score=0.461 total time=   0.0s\n",
      "[CV 2/5] END algorithm=auto, n_neighbors=3, p=1, weights=uniform;, score=0.667 total time=   0.0s\n",
      "[CV 3/5] END algorithm=auto, n_neighbors=3, p=1, weights=uniform;, score=0.451 total time=   0.0s\n",
      "[CV 4/5] END algorithm=auto, n_neighbors=3, p=1, weights=uniform;, score=0.625 total time=   0.0s\n",
      "[CV 5/5] END algorithm=auto, n_neighbors=3, p=1, weights=uniform;, score=0.619 total time=   0.0s\n",
      "[CV 1/5] END algorithm=auto, n_neighbors=3, p=1, weights=distance;, score=0.536 total time=   0.0s\n",
      "[CV 2/5] END algorithm=auto, n_neighbors=3, p=1, weights=distance;, score=0.674 total time=   0.0s\n",
      "[CV 3/5] END algorithm=auto, n_neighbors=3, p=1, weights=distance;, score=0.502 total time=   0.0s\n",
      "[CV 4/5] END algorithm=auto, n_neighbors=3, p=1, weights=distance;, score=0.623 total time=   0.0s\n",
      "[CV 5/5] END algorithm=auto, n_neighbors=3, p=1, weights=distance;, score=0.642 total time=   0.0s\n",
      "[CV 1/5] END algorithm=auto, n_neighbors=3, p=2, weights=uniform;, score=0.420 total time=   0.0s\n",
      "[CV 2/5] END algorithm=auto, n_neighbors=3, p=2, weights=uniform;, score=0.434 total time=   0.0s\n",
      "[CV 3/5] END algorithm=auto, n_neighbors=3, p=2, weights=uniform;, score=0.377 total time=   0.0s\n",
      "[CV 4/5] END algorithm=auto, n_neighbors=3, p=2, weights=uniform;, score=0.684 total time=   0.0s\n",
      "[CV 5/5] END algorithm=auto, n_neighbors=3, p=2, weights=uniform;, score=0.522 total time=   0.0s\n",
      "[CV 1/5] END algorithm=auto, n_neighbors=3, p=2, weights=distance;, score=0.450 total time=   0.0s\n",
      "[CV 2/5] END algorithm=auto, n_neighbors=3, p=2, weights=distance;, score=0.512 total time=   0.0s\n",
      "[CV 3/5] END algorithm=auto, n_neighbors=3, p=2, weights=distance;, score=0.477 total time=   0.0s\n",
      "[CV 4/5] END algorithm=auto, n_neighbors=3, p=2, weights=distance;, score=0.669 total time=   0.0s\n",
      "[CV 5/5] END algorithm=auto, n_neighbors=3, p=2, weights=distance;, score=0.567 total time=   0.0s\n",
      "[CV 1/5] END algorithm=auto, n_neighbors=5, p=1, weights=uniform;, score=0.437 total time=   0.0s\n",
      "[CV 2/5] END algorithm=auto, n_neighbors=5, p=1, weights=uniform;, score=0.668 total time=   0.0s\n",
      "[CV 3/5] END algorithm=auto, n_neighbors=5, p=1, weights=uniform;, score=0.474 total time=   0.0s\n",
      "[CV 4/5] END algorithm=auto, n_neighbors=5, p=1, weights=uniform;, score=0.576 total time=   0.0s\n",
      "[CV 5/5] END algorithm=auto, n_neighbors=5, p=1, weights=uniform;, score=0.622 total time=   0.0s\n",
      "[CV 1/5] END algorithm=auto, n_neighbors=5, p=1, weights=distance;, score=0.526 total time=   0.0s\n",
      "[CV 2/5] END algorithm=auto, n_neighbors=5, p=1, weights=distance;, score=0.671 total time=   0.0s\n",
      "[CV 3/5] END algorithm=auto, n_neighbors=5, p=1, weights=distance;, score=0.585 total time=   0.0s\n",
      "[CV 4/5] END algorithm=auto, n_neighbors=5, p=1, weights=distance;, score=0.638 total time=   0.0s\n",
      "[CV 5/5] END algorithm=auto, n_neighbors=5, p=1, weights=distance;, score=0.663 total time=   0.0s\n",
      "[CV 1/5] END algorithm=auto, n_neighbors=5, p=2, weights=uniform;, score=0.403 total time=   0.0s\n",
      "[CV 2/5] END algorithm=auto, n_neighbors=5, p=2, weights=uniform;, score=0.501 total time=   0.0s\n",
      "[CV 3/5] END algorithm=auto, n_neighbors=5, p=2, weights=uniform;, score=0.347 total time=   0.0s\n",
      "[CV 4/5] END algorithm=auto, n_neighbors=5, p=2, weights=uniform;, score=0.602 total time=   0.0s\n",
      "[CV 5/5] END algorithm=auto, n_neighbors=5, p=2, weights=uniform;, score=0.560 total time=   0.0s\n",
      "[CV 1/5] END algorithm=auto, n_neighbors=5, p=2, weights=distance;, score=0.460 total time=   0.0s\n",
      "[CV 2/5] END algorithm=auto, n_neighbors=5, p=2, weights=distance;, score=0.564 total time=   0.0s\n",
      "[CV 3/5] END algorithm=auto, n_neighbors=5, p=2, weights=distance;, score=0.479 total time=   0.0s\n",
      "[CV 4/5] END algorithm=auto, n_neighbors=5, p=2, weights=distance;, score=0.638 total time=   0.0s\n",
      "[CV 5/5] END algorithm=auto, n_neighbors=5, p=2, weights=distance;, score=0.601 total time=   0.0s\n",
      "[CV 1/5] END algorithm=auto, n_neighbors=7, p=1, weights=uniform;, score=0.423 total time=   0.0s\n",
      "[CV 2/5] END algorithm=auto, n_neighbors=7, p=1, weights=uniform;, score=0.636 total time=   0.0s\n",
      "[CV 3/5] END algorithm=auto, n_neighbors=7, p=1, weights=uniform;, score=0.379 total time=   0.0s\n",
      "[CV 4/5] END algorithm=auto, n_neighbors=7, p=1, weights=uniform;, score=0.582 total time=   0.0s\n",
      "[CV 5/5] END algorithm=auto, n_neighbors=7, p=1, weights=uniform;, score=0.576 total time=   0.0s\n",
      "[CV 1/5] END algorithm=auto, n_neighbors=7, p=1, weights=distance;, score=0.526 total time=   0.0s\n",
      "[CV 2/5] END algorithm=auto, n_neighbors=7, p=1, weights=distance;, score=0.675 total time=   0.0s\n",
      "[CV 3/5] END algorithm=auto, n_neighbors=7, p=1, weights=distance;, score=0.531 total time=   0.0s\n",
      "[CV 4/5] END algorithm=auto, n_neighbors=7, p=1, weights=distance;, score=0.645 total time=   0.0s\n",
      "[CV 5/5] END algorithm=auto, n_neighbors=7, p=1, weights=distance;, score=0.641 total time=   0.0s\n",
      "[CV 1/5] END algorithm=auto, n_neighbors=7, p=2, weights=uniform;, score=0.413 total time=   0.0s\n",
      "[CV 2/5] END algorithm=auto, n_neighbors=7, p=2, weights=uniform;, score=0.466 total time=   0.0s\n",
      "[CV 3/5] END algorithm=auto, n_neighbors=7, p=2, weights=uniform;, score=0.369 total time=   0.0s\n",
      "[CV 4/5] END algorithm=auto, n_neighbors=7, p=2, weights=uniform;, score=0.533 total time=   0.0s\n",
      "[CV 5/5] END algorithm=auto, n_neighbors=7, p=2, weights=uniform;, score=0.505 total time=   0.0s\n",
      "[CV 1/5] END algorithm=auto, n_neighbors=7, p=2, weights=distance;, score=0.486 total time=   0.0s\n",
      "[CV 2/5] END algorithm=auto, n_neighbors=7, p=2, weights=distance;, score=0.555 total time=   0.0s\n",
      "[CV 3/5] END algorithm=auto, n_neighbors=7, p=2, weights=distance;, score=0.506 total time=   0.0s\n",
      "[CV 4/5] END algorithm=auto, n_neighbors=7, p=2, weights=distance;, score=0.612 total time=   0.0s\n",
      "[CV 5/5] END algorithm=auto, n_neighbors=7, p=2, weights=distance;, score=0.574 total time=   0.0s\n",
      "[CV 1/5] END algorithm=auto, n_neighbors=9, p=1, weights=uniform;, score=0.380 total time=   0.0s\n",
      "[CV 2/5] END algorithm=auto, n_neighbors=9, p=1, weights=uniform;, score=0.570 total time=   0.0s\n",
      "[CV 3/5] END algorithm=auto, n_neighbors=9, p=1, weights=uniform;, score=0.391 total time=   0.0s\n",
      "[CV 4/5] END algorithm=auto, n_neighbors=9, p=1, weights=uniform;, score=0.571 total time=   0.0s\n",
      "[CV 5/5] END algorithm=auto, n_neighbors=9, p=1, weights=uniform;, score=0.533 total time=   0.0s\n",
      "[CV 1/5] END algorithm=auto, n_neighbors=9, p=1, weights=distance;, score=0.503 total time=   0.0s\n",
      "[CV 2/5] END algorithm=auto, n_neighbors=9, p=1, weights=distance;, score=0.640 total time=   0.0s\n",
      "[CV 3/5] END algorithm=auto, n_neighbors=9, p=1, weights=distance;, score=0.534 total time=   0.0s\n",
      "[CV 4/5] END algorithm=auto, n_neighbors=9, p=1, weights=distance;, score=0.641 total time=   0.0s\n",
      "[CV 5/5] END algorithm=auto, n_neighbors=9, p=1, weights=distance;, score=0.624 total time=   0.0s\n",
      "[CV 1/5] END algorithm=auto, n_neighbors=9, p=2, weights=uniform;, score=0.325 total time=   0.0s\n",
      "[CV 2/5] END algorithm=auto, n_neighbors=9, p=2, weights=uniform;, score=0.508 total time=   0.0s\n",
      "[CV 3/5] END algorithm=auto, n_neighbors=9, p=2, weights=uniform;, score=0.327 total time=   0.0s\n",
      "[CV 4/5] END algorithm=auto, n_neighbors=9, p=2, weights=uniform;, score=0.518 total time=   0.0s\n",
      "[CV 5/5] END algorithm=auto, n_neighbors=9, p=2, weights=uniform;, score=0.473 total time=   0.0s\n",
      "[CV 1/5] END algorithm=auto, n_neighbors=9, p=2, weights=distance;, score=0.447 total time=   0.0s\n",
      "[CV 2/5] END algorithm=auto, n_neighbors=9, p=2, weights=distance;, score=0.584 total time=   0.0s\n",
      "[CV 3/5] END algorithm=auto, n_neighbors=9, p=2, weights=distance;, score=0.491 total time=   0.0s\n",
      "[CV 4/5] END algorithm=auto, n_neighbors=9, p=2, weights=distance;, score=0.606 total time=   0.0s\n",
      "[CV 5/5] END algorithm=auto, n_neighbors=9, p=2, weights=distance;, score=0.558 total time=   0.0s\n",
      "[CV 1/5] END algorithm=auto, n_neighbors=11, p=1, weights=uniform;, score=0.350 total time=   0.0s\n",
      "[CV 2/5] END algorithm=auto, n_neighbors=11, p=1, weights=uniform;, score=0.546 total time=   0.0s\n",
      "[CV 3/5] END algorithm=auto, n_neighbors=11, p=1, weights=uniform;, score=0.376 total time=   0.0s\n",
      "[CV 4/5] END algorithm=auto, n_neighbors=11, p=1, weights=uniform;, score=0.533 total time=   0.0s\n",
      "[CV 5/5] END algorithm=auto, n_neighbors=11, p=1, weights=uniform;, score=0.527 total time=   0.0s\n",
      "[CV 1/5] END algorithm=auto, n_neighbors=11, p=1, weights=distance;, score=0.486 total time=   0.0s\n",
      "[CV 2/5] END algorithm=auto, n_neighbors=11, p=1, weights=distance;, score=0.630 total time=   0.0s\n",
      "[CV 3/5] END algorithm=auto, n_neighbors=11, p=1, weights=distance;, score=0.523 total time=   0.0s\n",
      "[CV 4/5] END algorithm=auto, n_neighbors=11, p=1, weights=distance;, score=0.634 total time=   0.0s\n",
      "[CV 5/5] END algorithm=auto, n_neighbors=11, p=1, weights=distance;, score=0.619 total time=   0.0s\n",
      "[CV 1/5] END algorithm=auto, n_neighbors=11, p=2, weights=uniform;, score=0.301 total time=   0.0s\n",
      "[CV 2/5] END algorithm=auto, n_neighbors=11, p=2, weights=uniform;, score=0.505 total time=   0.0s\n",
      "[CV 3/5] END algorithm=auto, n_neighbors=11, p=2, weights=uniform;, score=0.282 total time=   0.0s\n",
      "[CV 4/5] END algorithm=auto, n_neighbors=11, p=2, weights=uniform;, score=0.452 total time=   0.0s\n",
      "[CV 5/5] END algorithm=auto, n_neighbors=11, p=2, weights=uniform;, score=0.440 total time=   0.0s\n",
      "[CV 1/5] END algorithm=auto, n_neighbors=11, p=2, weights=distance;, score=0.434 total time=   0.0s\n",
      "[CV 2/5] END algorithm=auto, n_neighbors=11, p=2, weights=distance;, score=0.585 total time=   0.0s\n",
      "[CV 3/5] END algorithm=auto, n_neighbors=11, p=2, weights=distance;, score=0.455 total time=   0.0s\n",
      "[CV 4/5] END algorithm=auto, n_neighbors=11, p=2, weights=distance;, score=0.571 total time=   0.0s\n",
      "[CV 5/5] END algorithm=auto, n_neighbors=11, p=2, weights=distance;, score=0.539 total time=   0.0s\n",
      "[CV 1/5] END algorithm=ball_tree, n_neighbors=3, p=1, weights=uniform;, score=0.461 total time=   0.0s\n",
      "[CV 2/5] END algorithm=ball_tree, n_neighbors=3, p=1, weights=uniform;, score=0.667 total time=   0.0s\n",
      "[CV 3/5] END algorithm=ball_tree, n_neighbors=3, p=1, weights=uniform;, score=0.451 total time=   0.0s\n",
      "[CV 4/5] END algorithm=ball_tree, n_neighbors=3, p=1, weights=uniform;, score=0.625 total time=   0.0s\n",
      "[CV 5/5] END algorithm=ball_tree, n_neighbors=3, p=1, weights=uniform;, score=0.619 total time=   0.0s\n",
      "[CV 1/5] END algorithm=ball_tree, n_neighbors=3, p=1, weights=distance;, score=0.536 total time=   0.0s\n",
      "[CV 2/5] END algorithm=ball_tree, n_neighbors=3, p=1, weights=distance;, score=0.674 total time=   0.0s\n",
      "[CV 3/5] END algorithm=ball_tree, n_neighbors=3, p=1, weights=distance;, score=0.502 total time=   0.0s\n",
      "[CV 4/5] END algorithm=ball_tree, n_neighbors=3, p=1, weights=distance;, score=0.623 total time=   0.0s\n",
      "[CV 5/5] END algorithm=ball_tree, n_neighbors=3, p=1, weights=distance;, score=0.642 total time=   0.0s\n",
      "[CV 1/5] END algorithm=ball_tree, n_neighbors=3, p=2, weights=uniform;, score=0.420 total time=   0.0s\n",
      "[CV 2/5] END algorithm=ball_tree, n_neighbors=3, p=2, weights=uniform;, score=0.434 total time=   0.0s\n",
      "[CV 3/5] END algorithm=ball_tree, n_neighbors=3, p=2, weights=uniform;, score=0.377 total time=   0.0s\n",
      "[CV 4/5] END algorithm=ball_tree, n_neighbors=3, p=2, weights=uniform;, score=0.684 total time=   0.0s\n",
      "[CV 5/5] END algorithm=ball_tree, n_neighbors=3, p=2, weights=uniform;, score=0.522 total time=   0.0s\n",
      "[CV 1/5] END algorithm=ball_tree, n_neighbors=3, p=2, weights=distance;, score=0.450 total time=   0.0s\n",
      "[CV 2/5] END algorithm=ball_tree, n_neighbors=3, p=2, weights=distance;, score=0.512 total time=   0.0s\n",
      "[CV 3/5] END algorithm=ball_tree, n_neighbors=3, p=2, weights=distance;, score=0.477 total time=   0.0s\n",
      "[CV 4/5] END algorithm=ball_tree, n_neighbors=3, p=2, weights=distance;, score=0.669 total time=   0.0s\n",
      "[CV 5/5] END algorithm=ball_tree, n_neighbors=3, p=2, weights=distance;, score=0.567 total time=   0.0s\n",
      "[CV 1/5] END algorithm=ball_tree, n_neighbors=5, p=1, weights=uniform;, score=0.437 total time=   0.0s\n",
      "[CV 2/5] END algorithm=ball_tree, n_neighbors=5, p=1, weights=uniform;, score=0.668 total time=   0.0s\n",
      "[CV 3/5] END algorithm=ball_tree, n_neighbors=5, p=1, weights=uniform;, score=0.474 total time=   0.0s\n",
      "[CV 4/5] END algorithm=ball_tree, n_neighbors=5, p=1, weights=uniform;, score=0.576 total time=   0.0s\n",
      "[CV 5/5] END algorithm=ball_tree, n_neighbors=5, p=1, weights=uniform;, score=0.622 total time=   0.0s\n",
      "[CV 1/5] END algorithm=ball_tree, n_neighbors=5, p=1, weights=distance;, score=0.526 total time=   0.0s\n",
      "[CV 2/5] END algorithm=ball_tree, n_neighbors=5, p=1, weights=distance;, score=0.671 total time=   0.0s\n",
      "[CV 3/5] END algorithm=ball_tree, n_neighbors=5, p=1, weights=distance;, score=0.585 total time=   0.0s\n",
      "[CV 4/5] END algorithm=ball_tree, n_neighbors=5, p=1, weights=distance;, score=0.638 total time=   0.0s\n",
      "[CV 5/5] END algorithm=ball_tree, n_neighbors=5, p=1, weights=distance;, score=0.663 total time=   0.0s\n",
      "[CV 1/5] END algorithm=ball_tree, n_neighbors=5, p=2, weights=uniform;, score=0.403 total time=   0.0s\n",
      "[CV 2/5] END algorithm=ball_tree, n_neighbors=5, p=2, weights=uniform;, score=0.501 total time=   0.0s\n",
      "[CV 3/5] END algorithm=ball_tree, n_neighbors=5, p=2, weights=uniform;, score=0.347 total time=   0.0s\n",
      "[CV 4/5] END algorithm=ball_tree, n_neighbors=5, p=2, weights=uniform;, score=0.602 total time=   0.0s\n",
      "[CV 5/5] END algorithm=ball_tree, n_neighbors=5, p=2, weights=uniform;, score=0.560 total time=   0.0s\n",
      "[CV 1/5] END algorithm=ball_tree, n_neighbors=5, p=2, weights=distance;, score=0.460 total time=   0.0s\n",
      "[CV 2/5] END algorithm=ball_tree, n_neighbors=5, p=2, weights=distance;, score=0.564 total time=   0.0s\n",
      "[CV 3/5] END algorithm=ball_tree, n_neighbors=5, p=2, weights=distance;, score=0.479 total time=   0.0s\n",
      "[CV 4/5] END algorithm=ball_tree, n_neighbors=5, p=2, weights=distance;, score=0.638 total time=   0.0s\n",
      "[CV 5/5] END algorithm=ball_tree, n_neighbors=5, p=2, weights=distance;, score=0.601 total time=   0.0s\n",
      "[CV 1/5] END algorithm=ball_tree, n_neighbors=7, p=1, weights=uniform;, score=0.423 total time=   0.0s\n",
      "[CV 2/5] END algorithm=ball_tree, n_neighbors=7, p=1, weights=uniform;, score=0.636 total time=   0.0s\n",
      "[CV 3/5] END algorithm=ball_tree, n_neighbors=7, p=1, weights=uniform;, score=0.379 total time=   0.0s\n",
      "[CV 4/5] END algorithm=ball_tree, n_neighbors=7, p=1, weights=uniform;, score=0.582 total time=   0.0s\n",
      "[CV 5/5] END algorithm=ball_tree, n_neighbors=7, p=1, weights=uniform;, score=0.576 total time=   0.0s\n",
      "[CV 1/5] END algorithm=ball_tree, n_neighbors=7, p=1, weights=distance;, score=0.526 total time=   0.0s\n",
      "[CV 2/5] END algorithm=ball_tree, n_neighbors=7, p=1, weights=distance;, score=0.675 total time=   0.0s\n",
      "[CV 3/5] END algorithm=ball_tree, n_neighbors=7, p=1, weights=distance;, score=0.531 total time=   0.0s\n",
      "[CV 4/5] END algorithm=ball_tree, n_neighbors=7, p=1, weights=distance;, score=0.645 total time=   0.0s\n",
      "[CV 5/5] END algorithm=ball_tree, n_neighbors=7, p=1, weights=distance;, score=0.641 total time=   0.0s\n",
      "[CV 1/5] END algorithm=ball_tree, n_neighbors=7, p=2, weights=uniform;, score=0.413 total time=   0.0s\n",
      "[CV 2/5] END algorithm=ball_tree, n_neighbors=7, p=2, weights=uniform;, score=0.466 total time=   0.0s\n",
      "[CV 3/5] END algorithm=ball_tree, n_neighbors=7, p=2, weights=uniform;, score=0.369 total time=   0.0s\n",
      "[CV 4/5] END algorithm=ball_tree, n_neighbors=7, p=2, weights=uniform;, score=0.533 total time=   0.0s\n",
      "[CV 5/5] END algorithm=ball_tree, n_neighbors=7, p=2, weights=uniform;, score=0.505 total time=   0.0s\n",
      "[CV 1/5] END algorithm=ball_tree, n_neighbors=7, p=2, weights=distance;, score=0.486 total time=   0.0s\n",
      "[CV 2/5] END algorithm=ball_tree, n_neighbors=7, p=2, weights=distance;, score=0.555 total time=   0.0s\n",
      "[CV 3/5] END algorithm=ball_tree, n_neighbors=7, p=2, weights=distance;, score=0.506 total time=   0.0s\n",
      "[CV 4/5] END algorithm=ball_tree, n_neighbors=7, p=2, weights=distance;, score=0.612 total time=   0.0s\n",
      "[CV 5/5] END algorithm=ball_tree, n_neighbors=7, p=2, weights=distance;, score=0.574 total time=   0.0s\n",
      "[CV 1/5] END algorithm=ball_tree, n_neighbors=9, p=1, weights=uniform;, score=0.380 total time=   0.0s\n",
      "[CV 2/5] END algorithm=ball_tree, n_neighbors=9, p=1, weights=uniform;, score=0.570 total time=   0.0s\n",
      "[CV 3/5] END algorithm=ball_tree, n_neighbors=9, p=1, weights=uniform;, score=0.391 total time=   0.0s\n",
      "[CV 4/5] END algorithm=ball_tree, n_neighbors=9, p=1, weights=uniform;, score=0.571 total time=   0.0s\n",
      "[CV 5/5] END algorithm=ball_tree, n_neighbors=9, p=1, weights=uniform;, score=0.533 total time=   0.0s\n",
      "[CV 1/5] END algorithm=ball_tree, n_neighbors=9, p=1, weights=distance;, score=0.503 total time=   0.0s\n",
      "[CV 2/5] END algorithm=ball_tree, n_neighbors=9, p=1, weights=distance;, score=0.640 total time=   0.0s\n",
      "[CV 3/5] END algorithm=ball_tree, n_neighbors=9, p=1, weights=distance;, score=0.534 total time=   0.0s\n",
      "[CV 4/5] END algorithm=ball_tree, n_neighbors=9, p=1, weights=distance;, score=0.641 total time=   0.0s\n",
      "[CV 5/5] END algorithm=ball_tree, n_neighbors=9, p=1, weights=distance;, score=0.624 total time=   0.0s\n",
      "[CV 1/5] END algorithm=ball_tree, n_neighbors=9, p=2, weights=uniform;, score=0.325 total time=   0.0s\n",
      "[CV 2/5] END algorithm=ball_tree, n_neighbors=9, p=2, weights=uniform;, score=0.508 total time=   0.0s\n",
      "[CV 3/5] END algorithm=ball_tree, n_neighbors=9, p=2, weights=uniform;, score=0.327 total time=   0.0s\n",
      "[CV 4/5] END algorithm=ball_tree, n_neighbors=9, p=2, weights=uniform;, score=0.518 total time=   0.0s\n",
      "[CV 5/5] END algorithm=ball_tree, n_neighbors=9, p=2, weights=uniform;, score=0.473 total time=   0.0s\n",
      "[CV 1/5] END algorithm=ball_tree, n_neighbors=9, p=2, weights=distance;, score=0.447 total time=   0.0s\n",
      "[CV 2/5] END algorithm=ball_tree, n_neighbors=9, p=2, weights=distance;, score=0.584 total time=   0.0s\n",
      "[CV 3/5] END algorithm=ball_tree, n_neighbors=9, p=2, weights=distance;, score=0.491 total time=   0.0s\n",
      "[CV 4/5] END algorithm=ball_tree, n_neighbors=9, p=2, weights=distance;, score=0.606 total time=   0.0s\n",
      "[CV 5/5] END algorithm=ball_tree, n_neighbors=9, p=2, weights=distance;, score=0.558 total time=   0.0s\n",
      "[CV 1/5] END algorithm=ball_tree, n_neighbors=11, p=1, weights=uniform;, score=0.350 total time=   0.0s\n",
      "[CV 2/5] END algorithm=ball_tree, n_neighbors=11, p=1, weights=uniform;, score=0.546 total time=   0.0s\n",
      "[CV 3/5] END algorithm=ball_tree, n_neighbors=11, p=1, weights=uniform;, score=0.376 total time=   0.0s\n",
      "[CV 4/5] END algorithm=ball_tree, n_neighbors=11, p=1, weights=uniform;, score=0.533 total time=   0.0s\n",
      "[CV 5/5] END algorithm=ball_tree, n_neighbors=11, p=1, weights=uniform;, score=0.527 total time=   0.0s\n",
      "[CV 1/5] END algorithm=ball_tree, n_neighbors=11, p=1, weights=distance;, score=0.486 total time=   0.0s\n",
      "[CV 2/5] END algorithm=ball_tree, n_neighbors=11, p=1, weights=distance;, score=0.630 total time=   0.0s\n",
      "[CV 3/5] END algorithm=ball_tree, n_neighbors=11, p=1, weights=distance;, score=0.523 total time=   0.0s\n",
      "[CV 4/5] END algorithm=ball_tree, n_neighbors=11, p=1, weights=distance;, score=0.634 total time=   0.0s\n",
      "[CV 5/5] END algorithm=ball_tree, n_neighbors=11, p=1, weights=distance;, score=0.619 total time=   0.0s\n",
      "[CV 1/5] END algorithm=ball_tree, n_neighbors=11, p=2, weights=uniform;, score=0.301 total time=   0.0s\n",
      "[CV 2/5] END algorithm=ball_tree, n_neighbors=11, p=2, weights=uniform;, score=0.505 total time=   0.0s\n",
      "[CV 3/5] END algorithm=ball_tree, n_neighbors=11, p=2, weights=uniform;, score=0.282 total time=   0.0s\n",
      "[CV 4/5] END algorithm=ball_tree, n_neighbors=11, p=2, weights=uniform;, score=0.452 total time=   0.0s\n",
      "[CV 5/5] END algorithm=ball_tree, n_neighbors=11, p=2, weights=uniform;, score=0.440 total time=   0.0s\n",
      "[CV 1/5] END algorithm=ball_tree, n_neighbors=11, p=2, weights=distance;, score=0.434 total time=   0.0s\n",
      "[CV 2/5] END algorithm=ball_tree, n_neighbors=11, p=2, weights=distance;, score=0.585 total time=   0.0s\n",
      "[CV 3/5] END algorithm=ball_tree, n_neighbors=11, p=2, weights=distance;, score=0.455 total time=   0.0s\n",
      "[CV 4/5] END algorithm=ball_tree, n_neighbors=11, p=2, weights=distance;, score=0.571 total time=   0.0s\n",
      "[CV 5/5] END algorithm=ball_tree, n_neighbors=11, p=2, weights=distance;, score=0.539 total time=   0.0s\n",
      "[CV 1/5] END algorithm=kd_tree, n_neighbors=3, p=1, weights=uniform;, score=0.461 total time=   0.0s\n",
      "[CV 2/5] END algorithm=kd_tree, n_neighbors=3, p=1, weights=uniform;, score=0.667 total time=   0.0s\n",
      "[CV 3/5] END algorithm=kd_tree, n_neighbors=3, p=1, weights=uniform;, score=0.451 total time=   0.0s\n",
      "[CV 4/5] END algorithm=kd_tree, n_neighbors=3, p=1, weights=uniform;, score=0.625 total time=   0.0s\n",
      "[CV 5/5] END algorithm=kd_tree, n_neighbors=3, p=1, weights=uniform;, score=0.619 total time=   0.0s\n",
      "[CV 1/5] END algorithm=kd_tree, n_neighbors=3, p=1, weights=distance;, score=0.536 total time=   0.0s\n",
      "[CV 2/5] END algorithm=kd_tree, n_neighbors=3, p=1, weights=distance;, score=0.674 total time=   0.0s\n",
      "[CV 3/5] END algorithm=kd_tree, n_neighbors=3, p=1, weights=distance;, score=0.502 total time=   0.0s\n",
      "[CV 4/5] END algorithm=kd_tree, n_neighbors=3, p=1, weights=distance;, score=0.623 total time=   0.0s\n",
      "[CV 5/5] END algorithm=kd_tree, n_neighbors=3, p=1, weights=distance;, score=0.642 total time=   0.0s\n",
      "[CV 1/5] END algorithm=kd_tree, n_neighbors=3, p=2, weights=uniform;, score=0.420 total time=   0.0s\n",
      "[CV 2/5] END algorithm=kd_tree, n_neighbors=3, p=2, weights=uniform;, score=0.434 total time=   0.0s\n",
      "[CV 3/5] END algorithm=kd_tree, n_neighbors=3, p=2, weights=uniform;, score=0.377 total time=   0.0s\n",
      "[CV 4/5] END algorithm=kd_tree, n_neighbors=3, p=2, weights=uniform;, score=0.684 total time=   0.0s\n",
      "[CV 5/5] END algorithm=kd_tree, n_neighbors=3, p=2, weights=uniform;, score=0.522 total time=   0.0s\n",
      "[CV 1/5] END algorithm=kd_tree, n_neighbors=3, p=2, weights=distance;, score=0.450 total time=   0.0s\n",
      "[CV 2/5] END algorithm=kd_tree, n_neighbors=3, p=2, weights=distance;, score=0.512 total time=   0.0s\n",
      "[CV 3/5] END algorithm=kd_tree, n_neighbors=3, p=2, weights=distance;, score=0.477 total time=   0.0s\n",
      "[CV 4/5] END algorithm=kd_tree, n_neighbors=3, p=2, weights=distance;, score=0.669 total time=   0.0s\n",
      "[CV 5/5] END algorithm=kd_tree, n_neighbors=3, p=2, weights=distance;, score=0.567 total time=   0.0s\n",
      "[CV 1/5] END algorithm=kd_tree, n_neighbors=5, p=1, weights=uniform;, score=0.437 total time=   0.0s\n",
      "[CV 2/5] END algorithm=kd_tree, n_neighbors=5, p=1, weights=uniform;, score=0.668 total time=   0.0s\n",
      "[CV 3/5] END algorithm=kd_tree, n_neighbors=5, p=1, weights=uniform;, score=0.474 total time=   0.0s\n",
      "[CV 4/5] END algorithm=kd_tree, n_neighbors=5, p=1, weights=uniform;, score=0.576 total time=   0.0s\n",
      "[CV 5/5] END algorithm=kd_tree, n_neighbors=5, p=1, weights=uniform;, score=0.622 total time=   0.0s\n",
      "[CV 1/5] END algorithm=kd_tree, n_neighbors=5, p=1, weights=distance;, score=0.526 total time=   0.0s\n",
      "[CV 2/5] END algorithm=kd_tree, n_neighbors=5, p=1, weights=distance;, score=0.671 total time=   0.0s\n",
      "[CV 3/5] END algorithm=kd_tree, n_neighbors=5, p=1, weights=distance;, score=0.585 total time=   0.0s\n",
      "[CV 4/5] END algorithm=kd_tree, n_neighbors=5, p=1, weights=distance;, score=0.638 total time=   0.0s\n",
      "[CV 5/5] END algorithm=kd_tree, n_neighbors=5, p=1, weights=distance;, score=0.663 total time=   0.0s\n",
      "[CV 1/5] END algorithm=kd_tree, n_neighbors=5, p=2, weights=uniform;, score=0.403 total time=   0.0s\n",
      "[CV 2/5] END algorithm=kd_tree, n_neighbors=5, p=2, weights=uniform;, score=0.501 total time=   0.0s\n",
      "[CV 3/5] END algorithm=kd_tree, n_neighbors=5, p=2, weights=uniform;, score=0.347 total time=   0.0s\n",
      "[CV 4/5] END algorithm=kd_tree, n_neighbors=5, p=2, weights=uniform;, score=0.602 total time=   0.0s\n",
      "[CV 5/5] END algorithm=kd_tree, n_neighbors=5, p=2, weights=uniform;, score=0.560 total time=   0.0s\n",
      "[CV 1/5] END algorithm=kd_tree, n_neighbors=5, p=2, weights=distance;, score=0.460 total time=   0.0s\n",
      "[CV 2/5] END algorithm=kd_tree, n_neighbors=5, p=2, weights=distance;, score=0.564 total time=   0.0s\n",
      "[CV 3/5] END algorithm=kd_tree, n_neighbors=5, p=2, weights=distance;, score=0.479 total time=   0.0s\n",
      "[CV 4/5] END algorithm=kd_tree, n_neighbors=5, p=2, weights=distance;, score=0.638 total time=   0.0s\n",
      "[CV 5/5] END algorithm=kd_tree, n_neighbors=5, p=2, weights=distance;, score=0.601 total time=   0.0s\n",
      "[CV 1/5] END algorithm=kd_tree, n_neighbors=7, p=1, weights=uniform;, score=0.423 total time=   0.0s\n",
      "[CV 2/5] END algorithm=kd_tree, n_neighbors=7, p=1, weights=uniform;, score=0.636 total time=   0.0s\n",
      "[CV 3/5] END algorithm=kd_tree, n_neighbors=7, p=1, weights=uniform;, score=0.379 total time=   0.0s\n",
      "[CV 4/5] END algorithm=kd_tree, n_neighbors=7, p=1, weights=uniform;, score=0.582 total time=   0.0s\n",
      "[CV 5/5] END algorithm=kd_tree, n_neighbors=7, p=1, weights=uniform;, score=0.576 total time=   0.0s\n",
      "[CV 1/5] END algorithm=kd_tree, n_neighbors=7, p=1, weights=distance;, score=0.526 total time=   0.0s\n",
      "[CV 2/5] END algorithm=kd_tree, n_neighbors=7, p=1, weights=distance;, score=0.675 total time=   0.0s\n",
      "[CV 3/5] END algorithm=kd_tree, n_neighbors=7, p=1, weights=distance;, score=0.531 total time=   0.0s\n",
      "[CV 4/5] END algorithm=kd_tree, n_neighbors=7, p=1, weights=distance;, score=0.645 total time=   0.0s\n",
      "[CV 5/5] END algorithm=kd_tree, n_neighbors=7, p=1, weights=distance;, score=0.641 total time=   0.0s\n",
      "[CV 1/5] END algorithm=kd_tree, n_neighbors=7, p=2, weights=uniform;, score=0.413 total time=   0.0s\n",
      "[CV 2/5] END algorithm=kd_tree, n_neighbors=7, p=2, weights=uniform;, score=0.466 total time=   0.0s\n",
      "[CV 3/5] END algorithm=kd_tree, n_neighbors=7, p=2, weights=uniform;, score=0.369 total time=   0.0s\n",
      "[CV 4/5] END algorithm=kd_tree, n_neighbors=7, p=2, weights=uniform;, score=0.533 total time=   0.0s\n",
      "[CV 5/5] END algorithm=kd_tree, n_neighbors=7, p=2, weights=uniform;, score=0.505 total time=   0.0s\n",
      "[CV 1/5] END algorithm=kd_tree, n_neighbors=7, p=2, weights=distance;, score=0.486 total time=   0.0s\n",
      "[CV 2/5] END algorithm=kd_tree, n_neighbors=7, p=2, weights=distance;, score=0.555 total time=   0.0s\n",
      "[CV 3/5] END algorithm=kd_tree, n_neighbors=7, p=2, weights=distance;, score=0.506 total time=   0.0s\n",
      "[CV 4/5] END algorithm=kd_tree, n_neighbors=7, p=2, weights=distance;, score=0.612 total time=   0.0s\n",
      "[CV 5/5] END algorithm=kd_tree, n_neighbors=7, p=2, weights=distance;, score=0.574 total time=   0.0s\n",
      "[CV 1/5] END algorithm=kd_tree, n_neighbors=9, p=1, weights=uniform;, score=0.380 total time=   0.0s\n",
      "[CV 2/5] END algorithm=kd_tree, n_neighbors=9, p=1, weights=uniform;, score=0.570 total time=   0.0s\n",
      "[CV 3/5] END algorithm=kd_tree, n_neighbors=9, p=1, weights=uniform;, score=0.391 total time=   0.0s\n",
      "[CV 4/5] END algorithm=kd_tree, n_neighbors=9, p=1, weights=uniform;, score=0.571 total time=   0.0s\n",
      "[CV 5/5] END algorithm=kd_tree, n_neighbors=9, p=1, weights=uniform;, score=0.533 total time=   0.0s\n",
      "[CV 1/5] END algorithm=kd_tree, n_neighbors=9, p=1, weights=distance;, score=0.503 total time=   0.0s\n",
      "[CV 2/5] END algorithm=kd_tree, n_neighbors=9, p=1, weights=distance;, score=0.640 total time=   0.0s\n",
      "[CV 3/5] END algorithm=kd_tree, n_neighbors=9, p=1, weights=distance;, score=0.534 total time=   0.0s\n",
      "[CV 4/5] END algorithm=kd_tree, n_neighbors=9, p=1, weights=distance;, score=0.641 total time=   0.0s\n",
      "[CV 5/5] END algorithm=kd_tree, n_neighbors=9, p=1, weights=distance;, score=0.624 total time=   0.0s\n",
      "[CV 1/5] END algorithm=kd_tree, n_neighbors=9, p=2, weights=uniform;, score=0.325 total time=   0.0s\n",
      "[CV 2/5] END algorithm=kd_tree, n_neighbors=9, p=2, weights=uniform;, score=0.508 total time=   0.0s\n",
      "[CV 3/5] END algorithm=kd_tree, n_neighbors=9, p=2, weights=uniform;, score=0.327 total time=   0.0s\n",
      "[CV 4/5] END algorithm=kd_tree, n_neighbors=9, p=2, weights=uniform;, score=0.518 total time=   0.0s\n",
      "[CV 5/5] END algorithm=kd_tree, n_neighbors=9, p=2, weights=uniform;, score=0.473 total time=   0.0s\n",
      "[CV 1/5] END algorithm=kd_tree, n_neighbors=9, p=2, weights=distance;, score=0.447 total time=   0.0s\n",
      "[CV 2/5] END algorithm=kd_tree, n_neighbors=9, p=2, weights=distance;, score=0.584 total time=   0.0s\n",
      "[CV 3/5] END algorithm=kd_tree, n_neighbors=9, p=2, weights=distance;, score=0.491 total time=   0.0s\n",
      "[CV 4/5] END algorithm=kd_tree, n_neighbors=9, p=2, weights=distance;, score=0.606 total time=   0.0s\n",
      "[CV 5/5] END algorithm=kd_tree, n_neighbors=9, p=2, weights=distance;, score=0.558 total time=   0.0s\n",
      "[CV 1/5] END algorithm=kd_tree, n_neighbors=11, p=1, weights=uniform;, score=0.350 total time=   0.0s\n",
      "[CV 2/5] END algorithm=kd_tree, n_neighbors=11, p=1, weights=uniform;, score=0.546 total time=   0.0s\n",
      "[CV 3/5] END algorithm=kd_tree, n_neighbors=11, p=1, weights=uniform;, score=0.376 total time=   0.0s\n",
      "[CV 4/5] END algorithm=kd_tree, n_neighbors=11, p=1, weights=uniform;, score=0.533 total time=   0.0s\n",
      "[CV 5/5] END algorithm=kd_tree, n_neighbors=11, p=1, weights=uniform;, score=0.527 total time=   0.0s\n",
      "[CV 1/5] END algorithm=kd_tree, n_neighbors=11, p=1, weights=distance;, score=0.486 total time=   0.0s\n",
      "[CV 2/5] END algorithm=kd_tree, n_neighbors=11, p=1, weights=distance;, score=0.630 total time=   0.0s\n",
      "[CV 3/5] END algorithm=kd_tree, n_neighbors=11, p=1, weights=distance;, score=0.523 total time=   0.0s\n",
      "[CV 4/5] END algorithm=kd_tree, n_neighbors=11, p=1, weights=distance;, score=0.634 total time=   0.0s\n",
      "[CV 5/5] END algorithm=kd_tree, n_neighbors=11, p=1, weights=distance;, score=0.619 total time=   0.0s\n",
      "[CV 1/5] END algorithm=kd_tree, n_neighbors=11, p=2, weights=uniform;, score=0.301 total time=   0.0s\n",
      "[CV 2/5] END algorithm=kd_tree, n_neighbors=11, p=2, weights=uniform;, score=0.505 total time=   0.0s\n",
      "[CV 3/5] END algorithm=kd_tree, n_neighbors=11, p=2, weights=uniform;, score=0.282 total time=   0.0s\n",
      "[CV 4/5] END algorithm=kd_tree, n_neighbors=11, p=2, weights=uniform;, score=0.452 total time=   0.0s\n",
      "[CV 5/5] END algorithm=kd_tree, n_neighbors=11, p=2, weights=uniform;, score=0.440 total time=   0.0s\n",
      "[CV 1/5] END algorithm=kd_tree, n_neighbors=11, p=2, weights=distance;, score=0.434 total time=   0.0s\n",
      "[CV 2/5] END algorithm=kd_tree, n_neighbors=11, p=2, weights=distance;, score=0.585 total time=   0.0s\n",
      "[CV 3/5] END algorithm=kd_tree, n_neighbors=11, p=2, weights=distance;, score=0.455 total time=   0.0s\n",
      "[CV 4/5] END algorithm=kd_tree, n_neighbors=11, p=2, weights=distance;, score=0.571 total time=   0.0s\n",
      "[CV 5/5] END algorithm=kd_tree, n_neighbors=11, p=2, weights=distance;, score=0.539 total time=   0.0s\n",
      "[CV 1/5] END algorithm=brute, n_neighbors=3, p=1, weights=uniform;, score=0.461 total time=   0.1s\n",
      "[CV 2/5] END algorithm=brute, n_neighbors=3, p=1, weights=uniform;, score=0.667 total time=   0.0s\n",
      "[CV 3/5] END algorithm=brute, n_neighbors=3, p=1, weights=uniform;, score=0.451 total time=   0.0s\n",
      "[CV 4/5] END algorithm=brute, n_neighbors=3, p=1, weights=uniform;, score=0.625 total time=   0.0s\n",
      "[CV 5/5] END algorithm=brute, n_neighbors=3, p=1, weights=uniform;, score=0.619 total time=   0.0s\n",
      "[CV 1/5] END algorithm=brute, n_neighbors=3, p=1, weights=distance;, score=0.536 total time=   0.0s\n",
      "[CV 2/5] END algorithm=brute, n_neighbors=3, p=1, weights=distance;, score=0.674 total time=   0.0s\n",
      "[CV 3/5] END algorithm=brute, n_neighbors=3, p=1, weights=distance;, score=0.502 total time=   0.0s\n",
      "[CV 4/5] END algorithm=brute, n_neighbors=3, p=1, weights=distance;, score=0.623 total time=   0.0s\n",
      "[CV 5/5] END algorithm=brute, n_neighbors=3, p=1, weights=distance;, score=0.642 total time=   0.0s\n",
      "[CV 1/5] END algorithm=brute, n_neighbors=3, p=2, weights=uniform;, score=0.420 total time=   0.0s\n",
      "[CV 2/5] END algorithm=brute, n_neighbors=3, p=2, weights=uniform;, score=0.434 total time=   0.0s\n",
      "[CV 3/5] END algorithm=brute, n_neighbors=3, p=2, weights=uniform;, score=0.377 total time=   0.0s\n",
      "[CV 4/5] END algorithm=brute, n_neighbors=3, p=2, weights=uniform;, score=0.684 total time=   0.0s\n",
      "[CV 5/5] END algorithm=brute, n_neighbors=3, p=2, weights=uniform;, score=0.522 total time=   0.0s\n",
      "[CV 1/5] END algorithm=brute, n_neighbors=3, p=2, weights=distance;, score=0.450 total time=   0.0s\n",
      "[CV 2/5] END algorithm=brute, n_neighbors=3, p=2, weights=distance;, score=0.512 total time=   0.0s\n",
      "[CV 3/5] END algorithm=brute, n_neighbors=3, p=2, weights=distance;, score=0.477 total time=   0.0s\n",
      "[CV 4/5] END algorithm=brute, n_neighbors=3, p=2, weights=distance;, score=0.669 total time=   0.0s\n",
      "[CV 5/5] END algorithm=brute, n_neighbors=3, p=2, weights=distance;, score=0.567 total time=   0.0s\n",
      "[CV 1/5] END algorithm=brute, n_neighbors=5, p=1, weights=uniform;, score=0.437 total time=   0.0s\n",
      "[CV 2/5] END algorithm=brute, n_neighbors=5, p=1, weights=uniform;, score=0.668 total time=   0.0s\n",
      "[CV 3/5] END algorithm=brute, n_neighbors=5, p=1, weights=uniform;, score=0.474 total time=   0.0s\n",
      "[CV 4/5] END algorithm=brute, n_neighbors=5, p=1, weights=uniform;, score=0.576 total time=   0.0s\n",
      "[CV 5/5] END algorithm=brute, n_neighbors=5, p=1, weights=uniform;, score=0.622 total time=   0.0s\n",
      "[CV 1/5] END algorithm=brute, n_neighbors=5, p=1, weights=distance;, score=0.526 total time=   0.0s\n",
      "[CV 2/5] END algorithm=brute, n_neighbors=5, p=1, weights=distance;, score=0.671 total time=   0.0s\n",
      "[CV 3/5] END algorithm=brute, n_neighbors=5, p=1, weights=distance;, score=0.585 total time=   0.0s\n",
      "[CV 4/5] END algorithm=brute, n_neighbors=5, p=1, weights=distance;, score=0.638 total time=   0.0s\n",
      "[CV 5/5] END algorithm=brute, n_neighbors=5, p=1, weights=distance;, score=0.663 total time=   0.0s\n",
      "[CV 1/5] END algorithm=brute, n_neighbors=5, p=2, weights=uniform;, score=0.403 total time=   0.0s\n",
      "[CV 2/5] END algorithm=brute, n_neighbors=5, p=2, weights=uniform;, score=0.501 total time=   0.0s\n",
      "[CV 3/5] END algorithm=brute, n_neighbors=5, p=2, weights=uniform;, score=0.347 total time=   0.0s\n",
      "[CV 4/5] END algorithm=brute, n_neighbors=5, p=2, weights=uniform;, score=0.602 total time=   0.0s\n",
      "[CV 5/5] END algorithm=brute, n_neighbors=5, p=2, weights=uniform;, score=0.560 total time=   0.0s\n",
      "[CV 1/5] END algorithm=brute, n_neighbors=5, p=2, weights=distance;, score=0.460 total time=   0.0s\n",
      "[CV 2/5] END algorithm=brute, n_neighbors=5, p=2, weights=distance;, score=0.564 total time=   0.0s\n",
      "[CV 3/5] END algorithm=brute, n_neighbors=5, p=2, weights=distance;, score=0.479 total time=   0.0s\n",
      "[CV 4/5] END algorithm=brute, n_neighbors=5, p=2, weights=distance;, score=0.638 total time=   0.0s\n",
      "[CV 5/5] END algorithm=brute, n_neighbors=5, p=2, weights=distance;, score=0.601 total time=   0.0s\n",
      "[CV 1/5] END algorithm=brute, n_neighbors=7, p=1, weights=uniform;, score=0.423 total time=   0.0s\n",
      "[CV 2/5] END algorithm=brute, n_neighbors=7, p=1, weights=uniform;, score=0.636 total time=   0.0s\n",
      "[CV 3/5] END algorithm=brute, n_neighbors=7, p=1, weights=uniform;, score=0.379 total time=   0.0s\n",
      "[CV 4/5] END algorithm=brute, n_neighbors=7, p=1, weights=uniform;, score=0.582 total time=   0.0s\n",
      "[CV 5/5] END algorithm=brute, n_neighbors=7, p=1, weights=uniform;, score=0.576 total time=   0.0s\n",
      "[CV 1/5] END algorithm=brute, n_neighbors=7, p=1, weights=distance;, score=0.526 total time=   0.0s\n",
      "[CV 2/5] END algorithm=brute, n_neighbors=7, p=1, weights=distance;, score=0.675 total time=   0.0s\n",
      "[CV 3/5] END algorithm=brute, n_neighbors=7, p=1, weights=distance;, score=0.531 total time=   0.0s\n",
      "[CV 4/5] END algorithm=brute, n_neighbors=7, p=1, weights=distance;, score=0.645 total time=   0.0s\n",
      "[CV 5/5] END algorithm=brute, n_neighbors=7, p=1, weights=distance;, score=0.641 total time=   0.0s\n",
      "[CV 1/5] END algorithm=brute, n_neighbors=7, p=2, weights=uniform;, score=0.413 total time=   0.0s\n",
      "[CV 2/5] END algorithm=brute, n_neighbors=7, p=2, weights=uniform;, score=0.466 total time=   0.0s\n",
      "[CV 3/5] END algorithm=brute, n_neighbors=7, p=2, weights=uniform;, score=0.369 total time=   0.0s\n",
      "[CV 4/5] END algorithm=brute, n_neighbors=7, p=2, weights=uniform;, score=0.533 total time=   0.0s\n",
      "[CV 5/5] END algorithm=brute, n_neighbors=7, p=2, weights=uniform;, score=0.505 total time=   0.0s\n",
      "[CV 1/5] END algorithm=brute, n_neighbors=7, p=2, weights=distance;, score=0.486 total time=   0.0s\n",
      "[CV 2/5] END algorithm=brute, n_neighbors=7, p=2, weights=distance;, score=0.555 total time=   0.0s\n",
      "[CV 3/5] END algorithm=brute, n_neighbors=7, p=2, weights=distance;, score=0.506 total time=   0.0s\n",
      "[CV 4/5] END algorithm=brute, n_neighbors=7, p=2, weights=distance;, score=0.612 total time=   0.0s\n",
      "[CV 5/5] END algorithm=brute, n_neighbors=7, p=2, weights=distance;, score=0.574 total time=   0.0s\n",
      "[CV 1/5] END algorithm=brute, n_neighbors=9, p=1, weights=uniform;, score=0.380 total time=   0.0s\n",
      "[CV 2/5] END algorithm=brute, n_neighbors=9, p=1, weights=uniform;, score=0.570 total time=   0.0s\n",
      "[CV 3/5] END algorithm=brute, n_neighbors=9, p=1, weights=uniform;, score=0.391 total time=   0.0s\n",
      "[CV 4/5] END algorithm=brute, n_neighbors=9, p=1, weights=uniform;, score=0.571 total time=   0.0s\n",
      "[CV 5/5] END algorithm=brute, n_neighbors=9, p=1, weights=uniform;, score=0.533 total time=   0.0s\n",
      "[CV 1/5] END algorithm=brute, n_neighbors=9, p=1, weights=distance;, score=0.503 total time=   0.0s\n",
      "[CV 2/5] END algorithm=brute, n_neighbors=9, p=1, weights=distance;, score=0.640 total time=   0.0s\n",
      "[CV 3/5] END algorithm=brute, n_neighbors=9, p=1, weights=distance;, score=0.534 total time=   0.0s\n",
      "[CV 4/5] END algorithm=brute, n_neighbors=9, p=1, weights=distance;, score=0.641 total time=   0.0s\n",
      "[CV 5/5] END algorithm=brute, n_neighbors=9, p=1, weights=distance;, score=0.624 total time=   0.0s\n",
      "[CV 1/5] END algorithm=brute, n_neighbors=9, p=2, weights=uniform;, score=0.325 total time=   0.0s\n",
      "[CV 2/5] END algorithm=brute, n_neighbors=9, p=2, weights=uniform;, score=0.508 total time=   0.0s\n",
      "[CV 3/5] END algorithm=brute, n_neighbors=9, p=2, weights=uniform;, score=0.327 total time=   0.0s\n",
      "[CV 4/5] END algorithm=brute, n_neighbors=9, p=2, weights=uniform;, score=0.518 total time=   0.0s\n",
      "[CV 5/5] END algorithm=brute, n_neighbors=9, p=2, weights=uniform;, score=0.473 total time=   0.0s\n",
      "[CV 1/5] END algorithm=brute, n_neighbors=9, p=2, weights=distance;, score=0.447 total time=   0.0s\n",
      "[CV 2/5] END algorithm=brute, n_neighbors=9, p=2, weights=distance;, score=0.584 total time=   0.0s\n",
      "[CV 3/5] END algorithm=brute, n_neighbors=9, p=2, weights=distance;, score=0.491 total time=   0.0s\n",
      "[CV 4/5] END algorithm=brute, n_neighbors=9, p=2, weights=distance;, score=0.606 total time=   0.0s\n",
      "[CV 5/5] END algorithm=brute, n_neighbors=9, p=2, weights=distance;, score=0.558 total time=   0.0s\n",
      "[CV 1/5] END algorithm=brute, n_neighbors=11, p=1, weights=uniform;, score=0.350 total time=   0.0s\n",
      "[CV 2/5] END algorithm=brute, n_neighbors=11, p=1, weights=uniform;, score=0.546 total time=   0.0s\n",
      "[CV 3/5] END algorithm=brute, n_neighbors=11, p=1, weights=uniform;, score=0.376 total time=   0.0s\n",
      "[CV 4/5] END algorithm=brute, n_neighbors=11, p=1, weights=uniform;, score=0.533 total time=   0.0s\n",
      "[CV 5/5] END algorithm=brute, n_neighbors=11, p=1, weights=uniform;, score=0.527 total time=   0.0s\n",
      "[CV 1/5] END algorithm=brute, n_neighbors=11, p=1, weights=distance;, score=0.486 total time=   0.0s\n",
      "[CV 2/5] END algorithm=brute, n_neighbors=11, p=1, weights=distance;, score=0.630 total time=   0.0s\n",
      "[CV 3/5] END algorithm=brute, n_neighbors=11, p=1, weights=distance;, score=0.523 total time=   0.0s\n",
      "[CV 4/5] END algorithm=brute, n_neighbors=11, p=1, weights=distance;, score=0.634 total time=   0.0s\n",
      "[CV 5/5] END algorithm=brute, n_neighbors=11, p=1, weights=distance;, score=0.619 total time=   0.0s\n",
      "[CV 1/5] END algorithm=brute, n_neighbors=11, p=2, weights=uniform;, score=0.301 total time=   0.0s\n",
      "[CV 2/5] END algorithm=brute, n_neighbors=11, p=2, weights=uniform;, score=0.505 total time=   0.0s\n",
      "[CV 3/5] END algorithm=brute, n_neighbors=11, p=2, weights=uniform;, score=0.282 total time=   0.0s\n",
      "[CV 4/5] END algorithm=brute, n_neighbors=11, p=2, weights=uniform;, score=0.452 total time=   0.0s\n",
      "[CV 5/5] END algorithm=brute, n_neighbors=11, p=2, weights=uniform;, score=0.440 total time=   0.0s\n",
      "[CV 1/5] END algorithm=brute, n_neighbors=11, p=2, weights=distance;, score=0.434 total time=   0.0s\n",
      "[CV 2/5] END algorithm=brute, n_neighbors=11, p=2, weights=distance;, score=0.585 total time=   0.0s\n",
      "[CV 3/5] END algorithm=brute, n_neighbors=11, p=2, weights=distance;, score=0.455 total time=   0.0s\n",
      "[CV 4/5] END algorithm=brute, n_neighbors=11, p=2, weights=distance;, score=0.571 total time=   0.0s\n",
      "[CV 5/5] END algorithm=brute, n_neighbors=11, p=2, weights=distance;, score=0.539 total time=   0.0s\n"
     ]
    },
    {
     "data": {
      "text/html": [
       "<style>#sk-container-id-5 {color: black;background-color: white;}#sk-container-id-5 pre{padding: 0;}#sk-container-id-5 div.sk-toggleable {background-color: white;}#sk-container-id-5 label.sk-toggleable__label {cursor: pointer;display: block;width: 100%;margin-bottom: 0;padding: 0.3em;box-sizing: border-box;text-align: center;}#sk-container-id-5 label.sk-toggleable__label-arrow:before {content: \"▸\";float: left;margin-right: 0.25em;color: #696969;}#sk-container-id-5 label.sk-toggleable__label-arrow:hover:before {color: black;}#sk-container-id-5 div.sk-estimator:hover label.sk-toggleable__label-arrow:before {color: black;}#sk-container-id-5 div.sk-toggleable__content {max-height: 0;max-width: 0;overflow: hidden;text-align: left;background-color: #f0f8ff;}#sk-container-id-5 div.sk-toggleable__content pre {margin: 0.2em;color: black;border-radius: 0.25em;background-color: #f0f8ff;}#sk-container-id-5 input.sk-toggleable__control:checked~div.sk-toggleable__content {max-height: 200px;max-width: 100%;overflow: auto;}#sk-container-id-5 input.sk-toggleable__control:checked~label.sk-toggleable__label-arrow:before {content: \"▾\";}#sk-container-id-5 div.sk-estimator input.sk-toggleable__control:checked~label.sk-toggleable__label {background-color: #d4ebff;}#sk-container-id-5 div.sk-label input.sk-toggleable__control:checked~label.sk-toggleable__label {background-color: #d4ebff;}#sk-container-id-5 input.sk-hidden--visually {border: 0;clip: rect(1px 1px 1px 1px);clip: rect(1px, 1px, 1px, 1px);height: 1px;margin: -1px;overflow: hidden;padding: 0;position: absolute;width: 1px;}#sk-container-id-5 div.sk-estimator {font-family: monospace;background-color: #f0f8ff;border: 1px dotted black;border-radius: 0.25em;box-sizing: border-box;margin-bottom: 0.5em;}#sk-container-id-5 div.sk-estimator:hover {background-color: #d4ebff;}#sk-container-id-5 div.sk-parallel-item::after {content: \"\";width: 100%;border-bottom: 1px solid gray;flex-grow: 1;}#sk-container-id-5 div.sk-label:hover label.sk-toggleable__label {background-color: #d4ebff;}#sk-container-id-5 div.sk-serial::before {content: \"\";position: absolute;border-left: 1px solid gray;box-sizing: border-box;top: 0;bottom: 0;left: 50%;z-index: 0;}#sk-container-id-5 div.sk-serial {display: flex;flex-direction: column;align-items: center;background-color: white;padding-right: 0.2em;padding-left: 0.2em;position: relative;}#sk-container-id-5 div.sk-item {position: relative;z-index: 1;}#sk-container-id-5 div.sk-parallel {display: flex;align-items: stretch;justify-content: center;background-color: white;position: relative;}#sk-container-id-5 div.sk-item::before, #sk-container-id-5 div.sk-parallel-item::before {content: \"\";position: absolute;border-left: 1px solid gray;box-sizing: border-box;top: 0;bottom: 0;left: 50%;z-index: -1;}#sk-container-id-5 div.sk-parallel-item {display: flex;flex-direction: column;z-index: 1;position: relative;background-color: white;}#sk-container-id-5 div.sk-parallel-item:first-child::after {align-self: flex-end;width: 50%;}#sk-container-id-5 div.sk-parallel-item:last-child::after {align-self: flex-start;width: 50%;}#sk-container-id-5 div.sk-parallel-item:only-child::after {width: 0;}#sk-container-id-5 div.sk-dashed-wrapped {border: 1px dashed gray;margin: 0 0.4em 0.5em 0.4em;box-sizing: border-box;padding-bottom: 0.4em;background-color: white;}#sk-container-id-5 div.sk-label label {font-family: monospace;font-weight: bold;display: inline-block;line-height: 1.2em;}#sk-container-id-5 div.sk-label-container {text-align: center;}#sk-container-id-5 div.sk-container {/* jupyter's `normalize.less` sets `[hidden] { display: none; }` but bootstrap.min.css set `[hidden] { display: none !important; }` so we also need the `!important` here to be able to override the default hidden behavior on the sphinx rendered scikit-learn.org. See: https://github.com/scikit-learn/scikit-learn/issues/21755 */display: inline-block !important;position: relative;}#sk-container-id-5 div.sk-text-repr-fallback {display: none;}</style><div id=\"sk-container-id-5\" class=\"sk-top-container\"><div class=\"sk-text-repr-fallback\"><pre>GridSearchCV(cv=5, estimator=KNeighborsRegressor(),\n",
       "             param_grid={&#x27;algorithm&#x27;: [&#x27;auto&#x27;, &#x27;ball_tree&#x27;, &#x27;kd_tree&#x27;, &#x27;brute&#x27;],\n",
       "                         &#x27;n_neighbors&#x27;: [3, 5, 7, 9, 11], &#x27;p&#x27;: [1, 2],\n",
       "                         &#x27;weights&#x27;: [&#x27;uniform&#x27;, &#x27;distance&#x27;]},\n",
       "             scoring=&#x27;r2&#x27;, verbose=3)</pre><b>In a Jupyter environment, please rerun this cell to show the HTML representation or trust the notebook. <br />On GitHub, the HTML representation is unable to render, please try loading this page with nbviewer.org.</b></div><div class=\"sk-container\" hidden><div class=\"sk-item sk-dashed-wrapped\"><div class=\"sk-label-container\"><div class=\"sk-label sk-toggleable\"><input class=\"sk-toggleable__control sk-hidden--visually\" id=\"sk-estimator-id-5\" type=\"checkbox\" ><label for=\"sk-estimator-id-5\" class=\"sk-toggleable__label sk-toggleable__label-arrow\">GridSearchCV</label><div class=\"sk-toggleable__content\"><pre>GridSearchCV(cv=5, estimator=KNeighborsRegressor(),\n",
       "             param_grid={&#x27;algorithm&#x27;: [&#x27;auto&#x27;, &#x27;ball_tree&#x27;, &#x27;kd_tree&#x27;, &#x27;brute&#x27;],\n",
       "                         &#x27;n_neighbors&#x27;: [3, 5, 7, 9, 11], &#x27;p&#x27;: [1, 2],\n",
       "                         &#x27;weights&#x27;: [&#x27;uniform&#x27;, &#x27;distance&#x27;]},\n",
       "             scoring=&#x27;r2&#x27;, verbose=3)</pre></div></div></div><div class=\"sk-parallel\"><div class=\"sk-parallel-item\"><div class=\"sk-item\"><div class=\"sk-label-container\"><div class=\"sk-label sk-toggleable\"><input class=\"sk-toggleable__control sk-hidden--visually\" id=\"sk-estimator-id-6\" type=\"checkbox\" ><label for=\"sk-estimator-id-6\" class=\"sk-toggleable__label sk-toggleable__label-arrow\">estimator: KNeighborsRegressor</label><div class=\"sk-toggleable__content\"><pre>KNeighborsRegressor()</pre></div></div></div><div class=\"sk-serial\"><div class=\"sk-item\"><div class=\"sk-estimator sk-toggleable\"><input class=\"sk-toggleable__control sk-hidden--visually\" id=\"sk-estimator-id-7\" type=\"checkbox\" ><label for=\"sk-estimator-id-7\" class=\"sk-toggleable__label sk-toggleable__label-arrow\">KNeighborsRegressor</label><div class=\"sk-toggleable__content\"><pre>KNeighborsRegressor()</pre></div></div></div></div></div></div></div></div></div></div>"
      ],
      "text/plain": [
       "GridSearchCV(cv=5, estimator=KNeighborsRegressor(),\n",
       "             param_grid={'algorithm': ['auto', 'ball_tree', 'kd_tree', 'brute'],\n",
       "                         'n_neighbors': [3, 5, 7, 9, 11], 'p': [1, 2],\n",
       "                         'weights': ['uniform', 'distance']},\n",
       "             scoring='r2', verbose=3)"
      ]
     },
     "execution_count": 94,
     "metadata": {},
     "output_type": "execute_result"
    }
   ],
   "source": [
    "from sklearn.model_selection import GridSearchCV\n",
    "KNNGSCV = GridSearchCV(KNeighborsRegressor(),param_grid=parameter,cv=5,verbose=3,scoring='r2')\n",
    "KNNGSCV.fit(X_train,y_train)"
   ]
  },
  {
   "cell_type": "code",
   "execution_count": 95,
   "id": "df72e9ef-c1c9-4b8c-a65f-f14856678e11",
   "metadata": {},
   "outputs": [
    {
     "data": {
      "text/plain": [
       "{'algorithm': 'auto', 'n_neighbors': 5, 'p': 1, 'weights': 'distance'}"
      ]
     },
     "execution_count": 95,
     "metadata": {},
     "output_type": "execute_result"
    }
   ],
   "source": [
    "KNNGSCV.best_params_"
   ]
  },
  {
   "cell_type": "code",
   "execution_count": 99,
   "id": "a699bbce-8c4b-4efe-a01b-6c65e1903fce",
   "metadata": {},
   "outputs": [
    {
     "data": {
      "text/plain": [
       "array([18.90733513, 28.25228087, 21.43303442, 21.08122549, 27.01951941,\n",
       "       12.73905238, 20.56255173, 25.88323824, 22.62036362, 17.38510242,\n",
       "       11.02561007, 13.74776374, 24.37172267, 22.86545392, 20.63101541,\n",
       "       15.50579875, 21.74740172, 22.53467134,  8.67896927, 33.37872662,\n",
       "       23.15966864, 24.03301279, 29.42254646, 27.81910901, 20.38715043,\n",
       "       22.06465456, 23.84378187, 16.11661992, 19.69696011, 20.40947858,\n",
       "       22.14830382, 10.87885573, 25.71316271, 22.54263673, 37.70938798,\n",
       "       23.04514577, 28.80937139,  8.12617017, 34.43699902, 39.08487587,\n",
       "       24.21118115, 21.10912954, 18.7794654 , 35.97202908, 18.34020405,\n",
       "       10.28169047, 26.74668814, 22.24140966, 18.06925846, 19.95718635,\n",
       "       46.20916702, 21.97204488, 26.32200362, 34.01971206, 17.41809816,\n",
       "       29.48276426,  9.69221494, 16.34293085, 20.16489204, 24.35678282,\n",
       "       13.92538791, 16.68332465, 39.18142707, 41.76781939, 14.09084333,\n",
       "       21.44668325, 28.87987793, 32.70315216, 30.18356202, 19.15586885,\n",
       "       24.24593651, 18.39432241, 23.04327034, 13.04498919, 19.47511713,\n",
       "       25.04760112, 30.42851137, 11.57813327, 41.86779212, 11.56366925,\n",
       "       14.33389152, 13.65900213, 33.97195384, 27.89872453, 22.57348898,\n",
       "       42.44292582, 25.21760321, 14.53713632, 17.2018207 , 14.85016796,\n",
       "       19.90315989, 15.4430064 , 19.57560997, 14.20835766, 30.59626309,\n",
       "       40.27498924, 22.09426105,  8.86327114, 24.80254829, 20.1076148 ,\n",
       "       23.91885965, 23.4016982 ])"
      ]
     },
     "execution_count": 99,
     "metadata": {},
     "output_type": "execute_result"
    }
   ],
   "source": [
    "y_pred = KNNGSCV.predict(X_test)\n",
    "y_pred"
   ]
  },
  {
   "cell_type": "code",
   "execution_count": null,
   "id": "52e173df-7e59-46c5-85d6-02ea70c59865",
   "metadata": {},
   "outputs": [
    {
     "name": "stdout",
     "output_type": "stream",
     "text": [
      "R2_Score : 0.5924858649073299\n",
      "MSE : 44.04330243027114\n",
      "MAE : 4.615261124670683\n"
     ]
    }
   ],
   "source": [
    "print('R2_Score :',r2_score(y_test,y_pred))\n",
    "print('MSE :',mean_squared_error(y_test,y_pred))\n",
    "print('MAE :',mean_absolute_error(y_test,y_pred))"
   ]
  },
  {
   "cell_type": "code",
   "execution_count": 106,
   "id": "5e373f35-fdfa-4b5c-a4ea-b2d3eae21c84",
   "metadata": {},
   "outputs": [],
   "source": [
    "# Q3. Write a Python code snippet to find the optimal value of K for the KNN classifier algorithm using\n",
    "# cross-validation on load_iris dataset in sklearn.datasets.\n",
    "from sklearn.datasets import load_iris\n",
    "X,y = load_iris(return_X_y=True)"
   ]
  },
  {
   "cell_type": "code",
   "execution_count": 121,
   "id": "e85d24a7-c287-4d4e-aa63-6f3c75d4e417",
   "metadata": {},
   "outputs": [],
   "source": [
    "from sklearn.model_selection import train_test_split\n",
    "X_train,X_test,y_train,y_test = train_test_split(X,y,test_size=0.25,random_state=30)"
   ]
  },
  {
   "cell_type": "code",
   "execution_count": 122,
   "id": "f16eb0e0-acb8-4a1c-a55f-fa2980bfd734",
   "metadata": {},
   "outputs": [
    {
     "data": {
      "text/html": [
       "<style>#sk-container-id-8 {color: black;background-color: white;}#sk-container-id-8 pre{padding: 0;}#sk-container-id-8 div.sk-toggleable {background-color: white;}#sk-container-id-8 label.sk-toggleable__label {cursor: pointer;display: block;width: 100%;margin-bottom: 0;padding: 0.3em;box-sizing: border-box;text-align: center;}#sk-container-id-8 label.sk-toggleable__label-arrow:before {content: \"▸\";float: left;margin-right: 0.25em;color: #696969;}#sk-container-id-8 label.sk-toggleable__label-arrow:hover:before {color: black;}#sk-container-id-8 div.sk-estimator:hover label.sk-toggleable__label-arrow:before {color: black;}#sk-container-id-8 div.sk-toggleable__content {max-height: 0;max-width: 0;overflow: hidden;text-align: left;background-color: #f0f8ff;}#sk-container-id-8 div.sk-toggleable__content pre {margin: 0.2em;color: black;border-radius: 0.25em;background-color: #f0f8ff;}#sk-container-id-8 input.sk-toggleable__control:checked~div.sk-toggleable__content {max-height: 200px;max-width: 100%;overflow: auto;}#sk-container-id-8 input.sk-toggleable__control:checked~label.sk-toggleable__label-arrow:before {content: \"▾\";}#sk-container-id-8 div.sk-estimator input.sk-toggleable__control:checked~label.sk-toggleable__label {background-color: #d4ebff;}#sk-container-id-8 div.sk-label input.sk-toggleable__control:checked~label.sk-toggleable__label {background-color: #d4ebff;}#sk-container-id-8 input.sk-hidden--visually {border: 0;clip: rect(1px 1px 1px 1px);clip: rect(1px, 1px, 1px, 1px);height: 1px;margin: -1px;overflow: hidden;padding: 0;position: absolute;width: 1px;}#sk-container-id-8 div.sk-estimator {font-family: monospace;background-color: #f0f8ff;border: 1px dotted black;border-radius: 0.25em;box-sizing: border-box;margin-bottom: 0.5em;}#sk-container-id-8 div.sk-estimator:hover {background-color: #d4ebff;}#sk-container-id-8 div.sk-parallel-item::after {content: \"\";width: 100%;border-bottom: 1px solid gray;flex-grow: 1;}#sk-container-id-8 div.sk-label:hover label.sk-toggleable__label {background-color: #d4ebff;}#sk-container-id-8 div.sk-serial::before {content: \"\";position: absolute;border-left: 1px solid gray;box-sizing: border-box;top: 0;bottom: 0;left: 50%;z-index: 0;}#sk-container-id-8 div.sk-serial {display: flex;flex-direction: column;align-items: center;background-color: white;padding-right: 0.2em;padding-left: 0.2em;position: relative;}#sk-container-id-8 div.sk-item {position: relative;z-index: 1;}#sk-container-id-8 div.sk-parallel {display: flex;align-items: stretch;justify-content: center;background-color: white;position: relative;}#sk-container-id-8 div.sk-item::before, #sk-container-id-8 div.sk-parallel-item::before {content: \"\";position: absolute;border-left: 1px solid gray;box-sizing: border-box;top: 0;bottom: 0;left: 50%;z-index: -1;}#sk-container-id-8 div.sk-parallel-item {display: flex;flex-direction: column;z-index: 1;position: relative;background-color: white;}#sk-container-id-8 div.sk-parallel-item:first-child::after {align-self: flex-end;width: 50%;}#sk-container-id-8 div.sk-parallel-item:last-child::after {align-self: flex-start;width: 50%;}#sk-container-id-8 div.sk-parallel-item:only-child::after {width: 0;}#sk-container-id-8 div.sk-dashed-wrapped {border: 1px dashed gray;margin: 0 0.4em 0.5em 0.4em;box-sizing: border-box;padding-bottom: 0.4em;background-color: white;}#sk-container-id-8 div.sk-label label {font-family: monospace;font-weight: bold;display: inline-block;line-height: 1.2em;}#sk-container-id-8 div.sk-label-container {text-align: center;}#sk-container-id-8 div.sk-container {/* jupyter's `normalize.less` sets `[hidden] { display: none; }` but bootstrap.min.css set `[hidden] { display: none !important; }` so we also need the `!important` here to be able to override the default hidden behavior on the sphinx rendered scikit-learn.org. See: https://github.com/scikit-learn/scikit-learn/issues/21755 */display: inline-block !important;position: relative;}#sk-container-id-8 div.sk-text-repr-fallback {display: none;}</style><div id=\"sk-container-id-8\" class=\"sk-top-container\"><div class=\"sk-text-repr-fallback\"><pre>KNeighborsClassifier()</pre><b>In a Jupyter environment, please rerun this cell to show the HTML representation or trust the notebook. <br />On GitHub, the HTML representation is unable to render, please try loading this page with nbviewer.org.</b></div><div class=\"sk-container\" hidden><div class=\"sk-item\"><div class=\"sk-estimator sk-toggleable\"><input class=\"sk-toggleable__control sk-hidden--visually\" id=\"sk-estimator-id-12\" type=\"checkbox\" checked><label for=\"sk-estimator-id-12\" class=\"sk-toggleable__label sk-toggleable__label-arrow\">KNeighborsClassifier</label><div class=\"sk-toggleable__content\"><pre>KNeighborsClassifier()</pre></div></div></div></div></div>"
      ],
      "text/plain": [
       "KNeighborsClassifier()"
      ]
     },
     "execution_count": 122,
     "metadata": {},
     "output_type": "execute_result"
    }
   ],
   "source": [
    "from sklearn.neighbors import KNeighborsClassifier\n",
    "KNCla = KNeighborsClassifier()\n",
    "KNCla.fit(X_train,y_train)"
   ]
  },
  {
   "cell_type": "code",
   "execution_count": 123,
   "id": "9f95e707-1fce-448d-bdd1-da2682bd3524",
   "metadata": {},
   "outputs": [
    {
     "data": {
      "text/plain": [
       "array([0, 0, 0, 2, 1, 1, 2, 2, 1, 2, 0, 2, 1, 1, 0, 1, 0, 0, 0, 2, 1, 0,\n",
       "       0, 0, 2, 2, 2, 2, 0, 1, 2, 1, 2, 2, 2, 2, 1, 2])"
      ]
     },
     "execution_count": 123,
     "metadata": {},
     "output_type": "execute_result"
    }
   ],
   "source": [
    "y_pred = KNCla.predict(X_test)\n",
    "y_pred"
   ]
  },
  {
   "cell_type": "code",
   "execution_count": 124,
   "id": "e0d6d73d-1bda-4d7d-a5b1-6a27b3e846c2",
   "metadata": {},
   "outputs": [
    {
     "name": "stdout",
     "output_type": "stream",
     "text": [
      "Accuracy_Score : 0.9210526315789473\n",
      "Confusion_Matrix :\n",
      " [[12  0  0]\n",
      " [ 0  9  2]\n",
      " [ 0  1 14]]\n",
      "\n",
      "Classification_Report :\n",
      "               precision    recall  f1-score   support\n",
      "\n",
      "           0       1.00      1.00      1.00        12\n",
      "           1       0.90      0.82      0.86        11\n",
      "           2       0.88      0.93      0.90        15\n",
      "\n",
      "    accuracy                           0.92        38\n",
      "   macro avg       0.92      0.92      0.92        38\n",
      "weighted avg       0.92      0.92      0.92        38\n",
      "\n"
     ]
    }
   ],
   "source": [
    "from sklearn.metrics import accuracy_score,classification_report,confusion_matrix\n",
    "print('Accuracy_Score :',accuracy_score(y_test,y_pred))\n",
    "print('Confusion_Matrix :\\n',confusion_matrix(y_test,y_pred))\n",
    "print('\\nClassification_Report :\\n',classification_report(y_test,y_pred))"
   ]
  },
  {
   "cell_type": "code",
   "execution_count": 125,
   "id": "c610cd23-2d77-4e15-a385-a95378890ba5",
   "metadata": {},
   "outputs": [],
   "source": [
    "# Hyperparameter Tunning\n",
    "parameter = {\n",
    "    'n_neighbors' : [1,2,3,4,5,6,7,8,10],\n",
    "    'weights' : ['uniform', 'distance'],\n",
    "    'algorithm' : ['auto','kd_tree','ball_tree','brute'],\n",
    "    'p' : [1,2]\n",
    "}"
   ]
  },
  {
   "cell_type": "code",
   "execution_count": 126,
   "id": "8e741a3a-b65e-4844-ac9a-41a5841c3d1f",
   "metadata": {},
   "outputs": [
    {
     "data": {
      "text/html": [
       "<style>#sk-container-id-9 {color: black;background-color: white;}#sk-container-id-9 pre{padding: 0;}#sk-container-id-9 div.sk-toggleable {background-color: white;}#sk-container-id-9 label.sk-toggleable__label {cursor: pointer;display: block;width: 100%;margin-bottom: 0;padding: 0.3em;box-sizing: border-box;text-align: center;}#sk-container-id-9 label.sk-toggleable__label-arrow:before {content: \"▸\";float: left;margin-right: 0.25em;color: #696969;}#sk-container-id-9 label.sk-toggleable__label-arrow:hover:before {color: black;}#sk-container-id-9 div.sk-estimator:hover label.sk-toggleable__label-arrow:before {color: black;}#sk-container-id-9 div.sk-toggleable__content {max-height: 0;max-width: 0;overflow: hidden;text-align: left;background-color: #f0f8ff;}#sk-container-id-9 div.sk-toggleable__content pre {margin: 0.2em;color: black;border-radius: 0.25em;background-color: #f0f8ff;}#sk-container-id-9 input.sk-toggleable__control:checked~div.sk-toggleable__content {max-height: 200px;max-width: 100%;overflow: auto;}#sk-container-id-9 input.sk-toggleable__control:checked~label.sk-toggleable__label-arrow:before {content: \"▾\";}#sk-container-id-9 div.sk-estimator input.sk-toggleable__control:checked~label.sk-toggleable__label {background-color: #d4ebff;}#sk-container-id-9 div.sk-label input.sk-toggleable__control:checked~label.sk-toggleable__label {background-color: #d4ebff;}#sk-container-id-9 input.sk-hidden--visually {border: 0;clip: rect(1px 1px 1px 1px);clip: rect(1px, 1px, 1px, 1px);height: 1px;margin: -1px;overflow: hidden;padding: 0;position: absolute;width: 1px;}#sk-container-id-9 div.sk-estimator {font-family: monospace;background-color: #f0f8ff;border: 1px dotted black;border-radius: 0.25em;box-sizing: border-box;margin-bottom: 0.5em;}#sk-container-id-9 div.sk-estimator:hover {background-color: #d4ebff;}#sk-container-id-9 div.sk-parallel-item::after {content: \"\";width: 100%;border-bottom: 1px solid gray;flex-grow: 1;}#sk-container-id-9 div.sk-label:hover label.sk-toggleable__label {background-color: #d4ebff;}#sk-container-id-9 div.sk-serial::before {content: \"\";position: absolute;border-left: 1px solid gray;box-sizing: border-box;top: 0;bottom: 0;left: 50%;z-index: 0;}#sk-container-id-9 div.sk-serial {display: flex;flex-direction: column;align-items: center;background-color: white;padding-right: 0.2em;padding-left: 0.2em;position: relative;}#sk-container-id-9 div.sk-item {position: relative;z-index: 1;}#sk-container-id-9 div.sk-parallel {display: flex;align-items: stretch;justify-content: center;background-color: white;position: relative;}#sk-container-id-9 div.sk-item::before, #sk-container-id-9 div.sk-parallel-item::before {content: \"\";position: absolute;border-left: 1px solid gray;box-sizing: border-box;top: 0;bottom: 0;left: 50%;z-index: -1;}#sk-container-id-9 div.sk-parallel-item {display: flex;flex-direction: column;z-index: 1;position: relative;background-color: white;}#sk-container-id-9 div.sk-parallel-item:first-child::after {align-self: flex-end;width: 50%;}#sk-container-id-9 div.sk-parallel-item:last-child::after {align-self: flex-start;width: 50%;}#sk-container-id-9 div.sk-parallel-item:only-child::after {width: 0;}#sk-container-id-9 div.sk-dashed-wrapped {border: 1px dashed gray;margin: 0 0.4em 0.5em 0.4em;box-sizing: border-box;padding-bottom: 0.4em;background-color: white;}#sk-container-id-9 div.sk-label label {font-family: monospace;font-weight: bold;display: inline-block;line-height: 1.2em;}#sk-container-id-9 div.sk-label-container {text-align: center;}#sk-container-id-9 div.sk-container {/* jupyter's `normalize.less` sets `[hidden] { display: none; }` but bootstrap.min.css set `[hidden] { display: none !important; }` so we also need the `!important` here to be able to override the default hidden behavior on the sphinx rendered scikit-learn.org. See: https://github.com/scikit-learn/scikit-learn/issues/21755 */display: inline-block !important;position: relative;}#sk-container-id-9 div.sk-text-repr-fallback {display: none;}</style><div id=\"sk-container-id-9\" class=\"sk-top-container\"><div class=\"sk-text-repr-fallback\"><pre>RandomizedSearchCV(cv=5, estimator=KNeighborsClassifier(),\n",
       "                   param_distributions={&#x27;algorithm&#x27;: [&#x27;auto&#x27;, &#x27;kd_tree&#x27;,\n",
       "                                                      &#x27;ball_tree&#x27;, &#x27;brute&#x27;],\n",
       "                                        &#x27;n_neighbors&#x27;: [1, 2, 3, 4, 5, 6, 7, 8,\n",
       "                                                        10],\n",
       "                                        &#x27;p&#x27;: [1, 2],\n",
       "                                        &#x27;weights&#x27;: [&#x27;uniform&#x27;, &#x27;distance&#x27;]},\n",
       "                   scoring=&#x27;accuracy&#x27;)</pre><b>In a Jupyter environment, please rerun this cell to show the HTML representation or trust the notebook. <br />On GitHub, the HTML representation is unable to render, please try loading this page with nbviewer.org.</b></div><div class=\"sk-container\" hidden><div class=\"sk-item sk-dashed-wrapped\"><div class=\"sk-label-container\"><div class=\"sk-label sk-toggleable\"><input class=\"sk-toggleable__control sk-hidden--visually\" id=\"sk-estimator-id-13\" type=\"checkbox\" ><label for=\"sk-estimator-id-13\" class=\"sk-toggleable__label sk-toggleable__label-arrow\">RandomizedSearchCV</label><div class=\"sk-toggleable__content\"><pre>RandomizedSearchCV(cv=5, estimator=KNeighborsClassifier(),\n",
       "                   param_distributions={&#x27;algorithm&#x27;: [&#x27;auto&#x27;, &#x27;kd_tree&#x27;,\n",
       "                                                      &#x27;ball_tree&#x27;, &#x27;brute&#x27;],\n",
       "                                        &#x27;n_neighbors&#x27;: [1, 2, 3, 4, 5, 6, 7, 8,\n",
       "                                                        10],\n",
       "                                        &#x27;p&#x27;: [1, 2],\n",
       "                                        &#x27;weights&#x27;: [&#x27;uniform&#x27;, &#x27;distance&#x27;]},\n",
       "                   scoring=&#x27;accuracy&#x27;)</pre></div></div></div><div class=\"sk-parallel\"><div class=\"sk-parallel-item\"><div class=\"sk-item\"><div class=\"sk-label-container\"><div class=\"sk-label sk-toggleable\"><input class=\"sk-toggleable__control sk-hidden--visually\" id=\"sk-estimator-id-14\" type=\"checkbox\" ><label for=\"sk-estimator-id-14\" class=\"sk-toggleable__label sk-toggleable__label-arrow\">estimator: KNeighborsClassifier</label><div class=\"sk-toggleable__content\"><pre>KNeighborsClassifier()</pre></div></div></div><div class=\"sk-serial\"><div class=\"sk-item\"><div class=\"sk-estimator sk-toggleable\"><input class=\"sk-toggleable__control sk-hidden--visually\" id=\"sk-estimator-id-15\" type=\"checkbox\" ><label for=\"sk-estimator-id-15\" class=\"sk-toggleable__label sk-toggleable__label-arrow\">KNeighborsClassifier</label><div class=\"sk-toggleable__content\"><pre>KNeighborsClassifier()</pre></div></div></div></div></div></div></div></div></div></div>"
      ],
      "text/plain": [
       "RandomizedSearchCV(cv=5, estimator=KNeighborsClassifier(),\n",
       "                   param_distributions={'algorithm': ['auto', 'kd_tree',\n",
       "                                                      'ball_tree', 'brute'],\n",
       "                                        'n_neighbors': [1, 2, 3, 4, 5, 6, 7, 8,\n",
       "                                                        10],\n",
       "                                        'p': [1, 2],\n",
       "                                        'weights': ['uniform', 'distance']},\n",
       "                   scoring='accuracy')"
      ]
     },
     "execution_count": 126,
     "metadata": {},
     "output_type": "execute_result"
    }
   ],
   "source": [
    "from sklearn.model_selection import RandomizedSearchCV\n",
    "Rscv = RandomizedSearchCV(KNeighborsClassifier(),param_distributions=parameter,cv=5,scoring='accuracy')\n",
    "Rscv.fit(X_train,y_train)"
   ]
  },
  {
   "cell_type": "code",
   "execution_count": 127,
   "id": "407a045e-dfcc-4d41-b0b1-4cb4f8fd3fc1",
   "metadata": {},
   "outputs": [
    {
     "data": {
      "text/plain": [
       "{'weights': 'distance', 'p': 2, 'n_neighbors': 6, 'algorithm': 'kd_tree'}"
      ]
     },
     "execution_count": 127,
     "metadata": {},
     "output_type": "execute_result"
    }
   ],
   "source": [
    "Rscv.best_params_"
   ]
  },
  {
   "cell_type": "code",
   "execution_count": 128,
   "id": "66d4ed1b-04b8-4355-b508-d9676e1c425f",
   "metadata": {},
   "outputs": [
    {
     "data": {
      "text/plain": [
       "array([0, 0, 0, 2, 1, 1, 2, 2, 1, 2, 0, 2, 1, 1, 0, 1, 0, 0, 0, 2, 1, 0,\n",
       "       0, 0, 2, 2, 2, 2, 0, 1, 2, 1, 2, 2, 2, 2, 1, 2])"
      ]
     },
     "execution_count": 128,
     "metadata": {},
     "output_type": "execute_result"
    }
   ],
   "source": [
    "y_pred = Rscv.predict(X_test)\n",
    "y_pred"
   ]
  },
  {
   "cell_type": "code",
   "execution_count": 129,
   "id": "9670934e-e684-4fc0-89ff-8e08bf8397e1",
   "metadata": {},
   "outputs": [
    {
     "name": "stdout",
     "output_type": "stream",
     "text": [
      "Accuracy_Score : 0.9210526315789473\n",
      "Confusion_Matrix :\n",
      " [[12  0  0]\n",
      " [ 0  9  2]\n",
      " [ 0  1 14]]\n",
      "\n",
      "Classification_Report :\n",
      "               precision    recall  f1-score   support\n",
      "\n",
      "           0       1.00      1.00      1.00        12\n",
      "           1       0.90      0.82      0.86        11\n",
      "           2       0.88      0.93      0.90        15\n",
      "\n",
      "    accuracy                           0.92        38\n",
      "   macro avg       0.92      0.92      0.92        38\n",
      "weighted avg       0.92      0.92      0.92        38\n",
      "\n"
     ]
    }
   ],
   "source": [
    "print('Accuracy_Score :',accuracy_score(y_test,y_pred))\n",
    "print('Confusion_Matrix :\\n',confusion_matrix(y_test,y_pred))\n",
    "print('\\nClassification_Report :\\n',classification_report(y_test,y_pred))"
   ]
  },
  {
   "cell_type": "code",
   "execution_count": 149,
   "id": "3d572179-e9f9-42b6-b2a5-292d1c34da68",
   "metadata": {},
   "outputs": [
    {
     "data": {
      "text/html": [
       "<div>\n",
       "<style scoped>\n",
       "    .dataframe tbody tr th:only-of-type {\n",
       "        vertical-align: middle;\n",
       "    }\n",
       "\n",
       "    .dataframe tbody tr th {\n",
       "        vertical-align: top;\n",
       "    }\n",
       "\n",
       "    .dataframe thead th {\n",
       "        text-align: right;\n",
       "    }\n",
       "</style>\n",
       "<table border=\"1\" class=\"dataframe\">\n",
       "  <thead>\n",
       "    <tr style=\"text-align: right;\">\n",
       "      <th></th>\n",
       "      <th>crim</th>\n",
       "      <th>zn</th>\n",
       "      <th>indus</th>\n",
       "      <th>chas</th>\n",
       "      <th>nox</th>\n",
       "      <th>rm</th>\n",
       "      <th>age</th>\n",
       "      <th>dis</th>\n",
       "      <th>rad</th>\n",
       "      <th>tax</th>\n",
       "      <th>ptratio</th>\n",
       "      <th>b</th>\n",
       "      <th>lstat</th>\n",
       "      <th>medv</th>\n",
       "    </tr>\n",
       "  </thead>\n",
       "  <tbody>\n",
       "    <tr>\n",
       "      <th>0</th>\n",
       "      <td>0.00632</td>\n",
       "      <td>18.0</td>\n",
       "      <td>2.31</td>\n",
       "      <td>0</td>\n",
       "      <td>0.538</td>\n",
       "      <td>6.575</td>\n",
       "      <td>65.2</td>\n",
       "      <td>4.0900</td>\n",
       "      <td>1</td>\n",
       "      <td>296</td>\n",
       "      <td>15.3</td>\n",
       "      <td>396.90</td>\n",
       "      <td>4.98</td>\n",
       "      <td>24.0</td>\n",
       "    </tr>\n",
       "    <tr>\n",
       "      <th>1</th>\n",
       "      <td>0.02731</td>\n",
       "      <td>0.0</td>\n",
       "      <td>7.07</td>\n",
       "      <td>0</td>\n",
       "      <td>0.469</td>\n",
       "      <td>6.421</td>\n",
       "      <td>78.9</td>\n",
       "      <td>4.9671</td>\n",
       "      <td>2</td>\n",
       "      <td>242</td>\n",
       "      <td>17.8</td>\n",
       "      <td>396.90</td>\n",
       "      <td>9.14</td>\n",
       "      <td>21.6</td>\n",
       "    </tr>\n",
       "    <tr>\n",
       "      <th>2</th>\n",
       "      <td>0.02729</td>\n",
       "      <td>0.0</td>\n",
       "      <td>7.07</td>\n",
       "      <td>0</td>\n",
       "      <td>0.469</td>\n",
       "      <td>7.185</td>\n",
       "      <td>61.1</td>\n",
       "      <td>4.9671</td>\n",
       "      <td>2</td>\n",
       "      <td>242</td>\n",
       "      <td>17.8</td>\n",
       "      <td>392.83</td>\n",
       "      <td>4.03</td>\n",
       "      <td>34.7</td>\n",
       "    </tr>\n",
       "    <tr>\n",
       "      <th>3</th>\n",
       "      <td>0.03237</td>\n",
       "      <td>0.0</td>\n",
       "      <td>2.18</td>\n",
       "      <td>0</td>\n",
       "      <td>0.458</td>\n",
       "      <td>6.998</td>\n",
       "      <td>45.8</td>\n",
       "      <td>6.0622</td>\n",
       "      <td>3</td>\n",
       "      <td>222</td>\n",
       "      <td>18.7</td>\n",
       "      <td>394.63</td>\n",
       "      <td>2.94</td>\n",
       "      <td>33.4</td>\n",
       "    </tr>\n",
       "    <tr>\n",
       "      <th>4</th>\n",
       "      <td>0.06905</td>\n",
       "      <td>0.0</td>\n",
       "      <td>2.18</td>\n",
       "      <td>0</td>\n",
       "      <td>0.458</td>\n",
       "      <td>7.147</td>\n",
       "      <td>54.2</td>\n",
       "      <td>6.0622</td>\n",
       "      <td>3</td>\n",
       "      <td>222</td>\n",
       "      <td>18.7</td>\n",
       "      <td>396.90</td>\n",
       "      <td>5.33</td>\n",
       "      <td>36.2</td>\n",
       "    </tr>\n",
       "  </tbody>\n",
       "</table>\n",
       "</div>"
      ],
      "text/plain": [
       "      crim    zn  indus  chas    nox     rm   age     dis  rad  tax  ptratio  \\\n",
       "0  0.00632  18.0   2.31     0  0.538  6.575  65.2  4.0900    1  296     15.3   \n",
       "1  0.02731   0.0   7.07     0  0.469  6.421  78.9  4.9671    2  242     17.8   \n",
       "2  0.02729   0.0   7.07     0  0.469  7.185  61.1  4.9671    2  242     17.8   \n",
       "3  0.03237   0.0   2.18     0  0.458  6.998  45.8  6.0622    3  222     18.7   \n",
       "4  0.06905   0.0   2.18     0  0.458  7.147  54.2  6.0622    3  222     18.7   \n",
       "\n",
       "        b  lstat  medv  \n",
       "0  396.90   4.98  24.0  \n",
       "1  396.90   9.14  21.6  \n",
       "2  392.83   4.03  34.7  \n",
       "3  394.63   2.94  33.4  \n",
       "4  396.90   5.33  36.2  "
      ]
     },
     "execution_count": 149,
     "metadata": {},
     "output_type": "execute_result"
    }
   ],
   "source": [
    "# Q4. Implement the KNN regressor algorithm with feature scaling on load_boston dataset in\n",
    "# sklearn.datasets.\n",
    "import pandas as pd\n",
    "df = pd.read_csv('https://raw.githubusercontent.com/selva86/datasets/master/BostonHousing.csv')\n",
    "df.head()"
   ]
  },
  {
   "cell_type": "code",
   "execution_count": 150,
   "id": "f18b2315-d8a8-4742-ae83-b9b09ba74988",
   "metadata": {},
   "outputs": [],
   "source": [
    "X = df.drop(labels=['medv'],axis=1)\n",
    "y = df['medv'] "
   ]
  },
  {
   "cell_type": "code",
   "execution_count": 152,
   "id": "69c82cac-e221-4d5a-82d1-1e8daddfc0f5",
   "metadata": {},
   "outputs": [],
   "source": [
    "from sklearn.model_selection import train_test_split\n",
    "X_train,X_test,y_train,y_test = train_test_split(X,y,test_size=0.33,random_state=40)"
   ]
  },
  {
   "cell_type": "code",
   "execution_count": 153,
   "id": "3869e239-1668-4f3d-8f4f-76ed85964d9a",
   "metadata": {},
   "outputs": [],
   "source": [
    "# Feature Scailing\n",
    "from sklearn.preprocessing import StandardScaler\n",
    "scaler = StandardScaler()\n",
    "X_train_scaled = scaler.fit_transform(X_train)\n",
    "X_test_scaled = scaler.transform(X_test)"
   ]
  },
  {
   "cell_type": "code",
   "execution_count": 154,
   "id": "8e77ca80-9e41-48e9-8d85-5418c48c6a5e",
   "metadata": {},
   "outputs": [
    {
     "data": {
      "text/plain": [
       "array([[-0.46520718, -0.5026534 , -0.16624169, ...,  0.32193319,\n",
       "         0.44706486, -0.04508458],\n",
       "       [-0.44545793, -0.5026534 , -0.50505492, ...,  0.51734116,\n",
       "         0.38484331, -0.08636701],\n",
       "       [-0.3255001 , -0.5026534 , -0.3935839 , ...,  1.20126905,\n",
       "        -0.52906945,  0.76068728],\n",
       "       ...,\n",
       "       [-0.47034223,  0.03822872, -0.43318545, ..., -1.6321465 ,\n",
       "         0.44706486,  1.04660633],\n",
       "       [-0.47575225, -0.5026534 ,  0.44978236, ..., -1.04592259,\n",
       "         0.41298859, -0.27596039],\n",
       "       [-0.4419673 , -0.5026534 , -0.50505492, ...,  0.51734116,\n",
       "         0.44706486, -0.9410662 ]])"
      ]
     },
     "execution_count": 154,
     "metadata": {},
     "output_type": "execute_result"
    }
   ],
   "source": [
    "X_train_scaled"
   ]
  },
  {
   "cell_type": "code",
   "execution_count": 155,
   "id": "a6baa7ca-971d-447a-a214-1e7ec9e1cd0b",
   "metadata": {},
   "outputs": [
    {
     "data": {
      "text/plain": [
       "array([[ 0.43261693, -0.5026534 ,  1.06727314, ...,  0.81045311,\n",
       "         0.43121292, -0.12612046],\n",
       "       [-0.48782035,  2.95899216, -1.36455515, ..., -2.90229829,\n",
       "        -0.01221   , -0.5649374 ],\n",
       "       [-0.45082331, -0.5026534 , -0.57399095, ..., -0.31314271,\n",
       "         0.44706486,  2.82939569],\n",
       "       ...,\n",
       "       [-0.48907912, -0.5026534 , -0.82626747, ...,  0.81045311,\n",
       "         0.44706486, -0.65667613],\n",
       "       [-0.40476493, -0.5026534 , -0.67812835, ..., -0.55740267,\n",
       "         0.37341266, -1.1581812 ],\n",
       "       [ 0.97653287, -0.5026534 ,  1.06727314, ...,  0.81045311,\n",
       "         0.22028509,  0.67812242]])"
      ]
     },
     "execution_count": 155,
     "metadata": {},
     "output_type": "execute_result"
    }
   ],
   "source": [
    "X_test_scaled"
   ]
  },
  {
   "cell_type": "code",
   "execution_count": 156,
   "id": "f88a3b52-574a-454c-a6f6-580353d13f11",
   "metadata": {},
   "outputs": [
    {
     "data": {
      "text/html": [
       "<style>#sk-container-id-12 {color: black;background-color: white;}#sk-container-id-12 pre{padding: 0;}#sk-container-id-12 div.sk-toggleable {background-color: white;}#sk-container-id-12 label.sk-toggleable__label {cursor: pointer;display: block;width: 100%;margin-bottom: 0;padding: 0.3em;box-sizing: border-box;text-align: center;}#sk-container-id-12 label.sk-toggleable__label-arrow:before {content: \"▸\";float: left;margin-right: 0.25em;color: #696969;}#sk-container-id-12 label.sk-toggleable__label-arrow:hover:before {color: black;}#sk-container-id-12 div.sk-estimator:hover label.sk-toggleable__label-arrow:before {color: black;}#sk-container-id-12 div.sk-toggleable__content {max-height: 0;max-width: 0;overflow: hidden;text-align: left;background-color: #f0f8ff;}#sk-container-id-12 div.sk-toggleable__content pre {margin: 0.2em;color: black;border-radius: 0.25em;background-color: #f0f8ff;}#sk-container-id-12 input.sk-toggleable__control:checked~div.sk-toggleable__content {max-height: 200px;max-width: 100%;overflow: auto;}#sk-container-id-12 input.sk-toggleable__control:checked~label.sk-toggleable__label-arrow:before {content: \"▾\";}#sk-container-id-12 div.sk-estimator input.sk-toggleable__control:checked~label.sk-toggleable__label {background-color: #d4ebff;}#sk-container-id-12 div.sk-label input.sk-toggleable__control:checked~label.sk-toggleable__label {background-color: #d4ebff;}#sk-container-id-12 input.sk-hidden--visually {border: 0;clip: rect(1px 1px 1px 1px);clip: rect(1px, 1px, 1px, 1px);height: 1px;margin: -1px;overflow: hidden;padding: 0;position: absolute;width: 1px;}#sk-container-id-12 div.sk-estimator {font-family: monospace;background-color: #f0f8ff;border: 1px dotted black;border-radius: 0.25em;box-sizing: border-box;margin-bottom: 0.5em;}#sk-container-id-12 div.sk-estimator:hover {background-color: #d4ebff;}#sk-container-id-12 div.sk-parallel-item::after {content: \"\";width: 100%;border-bottom: 1px solid gray;flex-grow: 1;}#sk-container-id-12 div.sk-label:hover label.sk-toggleable__label {background-color: #d4ebff;}#sk-container-id-12 div.sk-serial::before {content: \"\";position: absolute;border-left: 1px solid gray;box-sizing: border-box;top: 0;bottom: 0;left: 50%;z-index: 0;}#sk-container-id-12 div.sk-serial {display: flex;flex-direction: column;align-items: center;background-color: white;padding-right: 0.2em;padding-left: 0.2em;position: relative;}#sk-container-id-12 div.sk-item {position: relative;z-index: 1;}#sk-container-id-12 div.sk-parallel {display: flex;align-items: stretch;justify-content: center;background-color: white;position: relative;}#sk-container-id-12 div.sk-item::before, #sk-container-id-12 div.sk-parallel-item::before {content: \"\";position: absolute;border-left: 1px solid gray;box-sizing: border-box;top: 0;bottom: 0;left: 50%;z-index: -1;}#sk-container-id-12 div.sk-parallel-item {display: flex;flex-direction: column;z-index: 1;position: relative;background-color: white;}#sk-container-id-12 div.sk-parallel-item:first-child::after {align-self: flex-end;width: 50%;}#sk-container-id-12 div.sk-parallel-item:last-child::after {align-self: flex-start;width: 50%;}#sk-container-id-12 div.sk-parallel-item:only-child::after {width: 0;}#sk-container-id-12 div.sk-dashed-wrapped {border: 1px dashed gray;margin: 0 0.4em 0.5em 0.4em;box-sizing: border-box;padding-bottom: 0.4em;background-color: white;}#sk-container-id-12 div.sk-label label {font-family: monospace;font-weight: bold;display: inline-block;line-height: 1.2em;}#sk-container-id-12 div.sk-label-container {text-align: center;}#sk-container-id-12 div.sk-container {/* jupyter's `normalize.less` sets `[hidden] { display: none; }` but bootstrap.min.css set `[hidden] { display: none !important; }` so we also need the `!important` here to be able to override the default hidden behavior on the sphinx rendered scikit-learn.org. See: https://github.com/scikit-learn/scikit-learn/issues/21755 */display: inline-block !important;position: relative;}#sk-container-id-12 div.sk-text-repr-fallback {display: none;}</style><div id=\"sk-container-id-12\" class=\"sk-top-container\"><div class=\"sk-text-repr-fallback\"><pre>KNeighborsRegressor()</pre><b>In a Jupyter environment, please rerun this cell to show the HTML representation or trust the notebook. <br />On GitHub, the HTML representation is unable to render, please try loading this page with nbviewer.org.</b></div><div class=\"sk-container\" hidden><div class=\"sk-item\"><div class=\"sk-estimator sk-toggleable\"><input class=\"sk-toggleable__control sk-hidden--visually\" id=\"sk-estimator-id-20\" type=\"checkbox\" checked><label for=\"sk-estimator-id-20\" class=\"sk-toggleable__label sk-toggleable__label-arrow\">KNeighborsRegressor</label><div class=\"sk-toggleable__content\"><pre>KNeighborsRegressor()</pre></div></div></div></div></div>"
      ],
      "text/plain": [
       "KNeighborsRegressor()"
      ]
     },
     "execution_count": 156,
     "metadata": {},
     "output_type": "execute_result"
    }
   ],
   "source": [
    "from sklearn.neighbors import KNeighborsRegressor\n",
    "KNReg = KNeighborsRegressor(n_neighbors=5)\n",
    "KNReg.fit(X_train_scaled,y_train)"
   ]
  },
  {
   "cell_type": "code",
   "execution_count": 157,
   "id": "cc4d548b-d7d9-4464-b25b-a3cbd53d371c",
   "metadata": {},
   "outputs": [
    {
     "data": {
      "text/plain": [
       "array([32.22, 30.9 , 17.22, 13.9 , 20.66, 32.08, 24.7 , 16.9 , 20.48,\n",
       "       12.1 , 24.7 , 16.06, 11.46,  9.02, 22.54, 29.6 , 26.46, 13.28,\n",
       "       13.2 ,  9.7 , 36.16, 13.08, 38.14, 25.44, 42.22, 25.4 , 23.  ,\n",
       "       18.08, 18.08, 19.58, 22.46, 21.46, 26.9 , 22.22,  9.6 , 23.72,\n",
       "       23.72, 10.76, 36.16, 25.64, 22.7 ,  9.12, 18.84, 23.26, 21.7 ,\n",
       "       10.12, 14.1 , 28.62, 24.32, 33.6 , 16.82, 20.76, 20.24,  9.22,\n",
       "        9.64, 32.38, 21.7 , 22.4 , 22.4 , 16.4 , 21.58, 11.12, 29.92,\n",
       "       18.04, 26.32, 18.34, 12.38, 28.06, 30.22, 20.78, 19.06, 24.44,\n",
       "       15.2 , 29.84, 36.1 , 19.66, 11.6 , 23.68, 21.1 , 22.36, 23.82,\n",
       "       22.04, 13.62, 11.36, 14.64, 12.7 , 19.62, 14.2 , 21.46, 20.32,\n",
       "       29.76, 16.4 , 18.98, 10.36, 19.26,  9.02, 17.72, 22.82, 20.44,\n",
       "       20.46, 21.46, 20.98, 24.34,  9.78, 33.24, 21.7 , 28.58, 31.54,\n",
       "       21.38, 11.34, 27.04, 37.06, 25.4 , 21.7 , 21.7 , 15.9 , 19.54,\n",
       "       18.56, 37.72, 21.76, 22.14, 26.38, 27.74, 13.28, 36.16, 15.34,\n",
       "        9.22, 24.88, 13.28, 25.16, 16.9 , 23.18, 25.06, 21.04, 33.6 ,\n",
       "       41.36, 14.18, 20.42, 18.22, 18.8 , 19.66, 37.34, 18.3 , 21.7 ,\n",
       "       21.48, 21.64, 17.16, 22.04, 16.9 , 29.16, 35.3 , 15.24, 23.8 ,\n",
       "       10.18, 21.56, 21.24, 24.12, 14.56, 18.8 , 22.86, 18.08, 29.52,\n",
       "       15.32, 22.54, 20.4 , 31.98, 13.7 ])"
      ]
     },
     "execution_count": 157,
     "metadata": {},
     "output_type": "execute_result"
    }
   ],
   "source": [
    "y_pred = KNReg.predict(X_test_scaled)\n",
    "y_pred"
   ]
  },
  {
   "cell_type": "code",
   "execution_count": 158,
   "id": "7b3e6e59-ac7b-4259-b7a2-734fe40e5c73",
   "metadata": {},
   "outputs": [
    {
     "name": "stdout",
     "output_type": "stream",
     "text": [
      "R2_Score : 0.7124542446355274\n",
      "MSE : 30.673264670658675\n",
      "MAE : 3.4388023952095805\n"
     ]
    }
   ],
   "source": [
    "from sklearn.metrics import r2_score,mean_squared_error,mean_absolute_error\n",
    "print('R2_Score :',r2_score(y_test,y_pred))\n",
    "print('MSE :',mean_squared_error(y_test,y_pred))\n",
    "print('MAE :',mean_absolute_error(y_test,y_pred))"
   ]
  },
  {
   "cell_type": "code",
   "execution_count": 159,
   "id": "ce90b530-d390-4716-a469-7b3356611ab3",
   "metadata": {},
   "outputs": [],
   "source": [
    "# Hyperparameter tunning \n",
    "parameter = {\n",
    "    'n_neighbors': [2,4, 6, 8, 10],  \n",
    "    'weights': ['uniform', 'distance'], \n",
    "    'algorithm': ['auto', 'ball_tree', 'kd_tree', 'brute'],  \n",
    "    'p': [1, 2] \n",
    "}"
   ]
  },
  {
   "cell_type": "code",
   "execution_count": 160,
   "id": "e533cb46-52ed-40bc-ad87-ecec5855e74e",
   "metadata": {},
   "outputs": [
    {
     "data": {
      "text/html": [
       "<style>#sk-container-id-13 {color: black;background-color: white;}#sk-container-id-13 pre{padding: 0;}#sk-container-id-13 div.sk-toggleable {background-color: white;}#sk-container-id-13 label.sk-toggleable__label {cursor: pointer;display: block;width: 100%;margin-bottom: 0;padding: 0.3em;box-sizing: border-box;text-align: center;}#sk-container-id-13 label.sk-toggleable__label-arrow:before {content: \"▸\";float: left;margin-right: 0.25em;color: #696969;}#sk-container-id-13 label.sk-toggleable__label-arrow:hover:before {color: black;}#sk-container-id-13 div.sk-estimator:hover label.sk-toggleable__label-arrow:before {color: black;}#sk-container-id-13 div.sk-toggleable__content {max-height: 0;max-width: 0;overflow: hidden;text-align: left;background-color: #f0f8ff;}#sk-container-id-13 div.sk-toggleable__content pre {margin: 0.2em;color: black;border-radius: 0.25em;background-color: #f0f8ff;}#sk-container-id-13 input.sk-toggleable__control:checked~div.sk-toggleable__content {max-height: 200px;max-width: 100%;overflow: auto;}#sk-container-id-13 input.sk-toggleable__control:checked~label.sk-toggleable__label-arrow:before {content: \"▾\";}#sk-container-id-13 div.sk-estimator input.sk-toggleable__control:checked~label.sk-toggleable__label {background-color: #d4ebff;}#sk-container-id-13 div.sk-label input.sk-toggleable__control:checked~label.sk-toggleable__label {background-color: #d4ebff;}#sk-container-id-13 input.sk-hidden--visually {border: 0;clip: rect(1px 1px 1px 1px);clip: rect(1px, 1px, 1px, 1px);height: 1px;margin: -1px;overflow: hidden;padding: 0;position: absolute;width: 1px;}#sk-container-id-13 div.sk-estimator {font-family: monospace;background-color: #f0f8ff;border: 1px dotted black;border-radius: 0.25em;box-sizing: border-box;margin-bottom: 0.5em;}#sk-container-id-13 div.sk-estimator:hover {background-color: #d4ebff;}#sk-container-id-13 div.sk-parallel-item::after {content: \"\";width: 100%;border-bottom: 1px solid gray;flex-grow: 1;}#sk-container-id-13 div.sk-label:hover label.sk-toggleable__label {background-color: #d4ebff;}#sk-container-id-13 div.sk-serial::before {content: \"\";position: absolute;border-left: 1px solid gray;box-sizing: border-box;top: 0;bottom: 0;left: 50%;z-index: 0;}#sk-container-id-13 div.sk-serial {display: flex;flex-direction: column;align-items: center;background-color: white;padding-right: 0.2em;padding-left: 0.2em;position: relative;}#sk-container-id-13 div.sk-item {position: relative;z-index: 1;}#sk-container-id-13 div.sk-parallel {display: flex;align-items: stretch;justify-content: center;background-color: white;position: relative;}#sk-container-id-13 div.sk-item::before, #sk-container-id-13 div.sk-parallel-item::before {content: \"\";position: absolute;border-left: 1px solid gray;box-sizing: border-box;top: 0;bottom: 0;left: 50%;z-index: -1;}#sk-container-id-13 div.sk-parallel-item {display: flex;flex-direction: column;z-index: 1;position: relative;background-color: white;}#sk-container-id-13 div.sk-parallel-item:first-child::after {align-self: flex-end;width: 50%;}#sk-container-id-13 div.sk-parallel-item:last-child::after {align-self: flex-start;width: 50%;}#sk-container-id-13 div.sk-parallel-item:only-child::after {width: 0;}#sk-container-id-13 div.sk-dashed-wrapped {border: 1px dashed gray;margin: 0 0.4em 0.5em 0.4em;box-sizing: border-box;padding-bottom: 0.4em;background-color: white;}#sk-container-id-13 div.sk-label label {font-family: monospace;font-weight: bold;display: inline-block;line-height: 1.2em;}#sk-container-id-13 div.sk-label-container {text-align: center;}#sk-container-id-13 div.sk-container {/* jupyter's `normalize.less` sets `[hidden] { display: none; }` but bootstrap.min.css set `[hidden] { display: none !important; }` so we also need the `!important` here to be able to override the default hidden behavior on the sphinx rendered scikit-learn.org. See: https://github.com/scikit-learn/scikit-learn/issues/21755 */display: inline-block !important;position: relative;}#sk-container-id-13 div.sk-text-repr-fallback {display: none;}</style><div id=\"sk-container-id-13\" class=\"sk-top-container\"><div class=\"sk-text-repr-fallback\"><pre>GridSearchCV(cv=5, estimator=KNeighborsRegressor(),\n",
       "             param_grid={&#x27;algorithm&#x27;: [&#x27;auto&#x27;, &#x27;ball_tree&#x27;, &#x27;kd_tree&#x27;, &#x27;brute&#x27;],\n",
       "                         &#x27;n_neighbors&#x27;: [3, 5, 7, 9, 11], &#x27;p&#x27;: [1, 2],\n",
       "                         &#x27;weights&#x27;: [&#x27;uniform&#x27;, &#x27;distance&#x27;]})</pre><b>In a Jupyter environment, please rerun this cell to show the HTML representation or trust the notebook. <br />On GitHub, the HTML representation is unable to render, please try loading this page with nbviewer.org.</b></div><div class=\"sk-container\" hidden><div class=\"sk-item sk-dashed-wrapped\"><div class=\"sk-label-container\"><div class=\"sk-label sk-toggleable\"><input class=\"sk-toggleable__control sk-hidden--visually\" id=\"sk-estimator-id-21\" type=\"checkbox\" ><label for=\"sk-estimator-id-21\" class=\"sk-toggleable__label sk-toggleable__label-arrow\">GridSearchCV</label><div class=\"sk-toggleable__content\"><pre>GridSearchCV(cv=5, estimator=KNeighborsRegressor(),\n",
       "             param_grid={&#x27;algorithm&#x27;: [&#x27;auto&#x27;, &#x27;ball_tree&#x27;, &#x27;kd_tree&#x27;, &#x27;brute&#x27;],\n",
       "                         &#x27;n_neighbors&#x27;: [3, 5, 7, 9, 11], &#x27;p&#x27;: [1, 2],\n",
       "                         &#x27;weights&#x27;: [&#x27;uniform&#x27;, &#x27;distance&#x27;]})</pre></div></div></div><div class=\"sk-parallel\"><div class=\"sk-parallel-item\"><div class=\"sk-item\"><div class=\"sk-label-container\"><div class=\"sk-label sk-toggleable\"><input class=\"sk-toggleable__control sk-hidden--visually\" id=\"sk-estimator-id-22\" type=\"checkbox\" ><label for=\"sk-estimator-id-22\" class=\"sk-toggleable__label sk-toggleable__label-arrow\">estimator: KNeighborsRegressor</label><div class=\"sk-toggleable__content\"><pre>KNeighborsRegressor()</pre></div></div></div><div class=\"sk-serial\"><div class=\"sk-item\"><div class=\"sk-estimator sk-toggleable\"><input class=\"sk-toggleable__control sk-hidden--visually\" id=\"sk-estimator-id-23\" type=\"checkbox\" ><label for=\"sk-estimator-id-23\" class=\"sk-toggleable__label sk-toggleable__label-arrow\">KNeighborsRegressor</label><div class=\"sk-toggleable__content\"><pre>KNeighborsRegressor()</pre></div></div></div></div></div></div></div></div></div></div>"
      ],
      "text/plain": [
       "GridSearchCV(cv=5, estimator=KNeighborsRegressor(),\n",
       "             param_grid={'algorithm': ['auto', 'ball_tree', 'kd_tree', 'brute'],\n",
       "                         'n_neighbors': [3, 5, 7, 9, 11], 'p': [1, 2],\n",
       "                         'weights': ['uniform', 'distance']})"
      ]
     },
     "execution_count": 160,
     "metadata": {},
     "output_type": "execute_result"
    }
   ],
   "source": [
    "from sklearn.model_selection import GridSearchCV\n",
    "GSCV = GridSearchCV(KNeighborsRegressor(),param_grid=param_grid,cv=5)\n",
    "GSCV.fit(X_train,y_train)"
   ]
  },
  {
   "cell_type": "code",
   "execution_count": 161,
   "id": "b1c5efc7-94bc-4463-ae90-0fa70cb4db10",
   "metadata": {},
   "outputs": [
    {
     "data": {
      "text/plain": [
       "{'algorithm': 'auto', 'n_neighbors': 7, 'p': 1, 'weights': 'distance'}"
      ]
     },
     "execution_count": 161,
     "metadata": {},
     "output_type": "execute_result"
    }
   ],
   "source": [
    "GSCV.best_params_"
   ]
  },
  {
   "cell_type": "code",
   "execution_count": 162,
   "id": "56b6322a-e415-486a-af57-07c168ec300e",
   "metadata": {},
   "outputs": [
    {
     "data": {
      "text/plain": [
       "array([29.89248172, 27.04335568, 27.04327393, 27.02668256, 27.01395882,\n",
       "       29.89235869, 27.05207807, 27.03972999, 29.90354506, 26.99837416,\n",
       "       29.91198729, 27.04317928, 27.01251708, 26.99640071, 27.04326926,\n",
       "       27.04294717, 27.04458277, 27.01940828, 26.99835042, 26.99565124,\n",
       "       27.04379545, 27.00974335, 27.04290787, 27.04403447, 27.04317729,\n",
       "       27.05137852, 27.0443867 , 27.03988633, 27.03975176, 27.04340914,\n",
       "       27.04391525, 27.0438987 , 27.04436385, 27.05254751, 26.99976654,\n",
       "       27.04476137, 27.04487435, 27.02175396, 27.03889484, 29.90891207,\n",
       "       27.04310287, 26.99740102, 27.04338636, 27.04374234, 27.04304761,\n",
       "       27.00116071, 27.04303804, 27.04407393, 27.03384927, 27.03924354,\n",
       "       27.039571  , 27.04409973, 27.04462705, 26.99877392, 27.00029358,\n",
       "       29.90674732, 27.04316404, 29.90847165, 27.04390657, 27.03910685,\n",
       "       27.04443235, 27.00066029, 27.04381339, 27.04333236, 27.04423344,\n",
       "       27.04316779, 27.03950159, 27.04428317, 29.87796457, 27.03353136,\n",
       "       27.04372478, 27.0439364 , 27.03234963, 27.04403797, 27.04324481,\n",
       "       27.04339006, 27.01390624, 27.04424171, 27.0443231 , 27.04407422,\n",
       "       27.0116999 , 29.90841716, 27.01307397, 27.00403282, 27.02723139,\n",
       "       27.0079037 , 27.0438001 , 27.04417912, 27.04231764, 27.03759628,\n",
       "       27.04018888, 27.03908565, 27.04379506, 27.00809928, 27.0437721 ,\n",
       "       26.99603606, 27.030678  , 27.04360016, 27.04385933, 27.04376203,\n",
       "       27.03528989, 27.04202552, 27.04419428, 27.00616319, 27.04293969,\n",
       "       27.04393993, 27.04476724, 27.04521149, 27.04461946, 27.00245092,\n",
       "       27.05081004, 27.04323333, 27.04431918, 27.04364647, 27.04398284,\n",
       "       27.03995106, 27.04407222, 27.03929517, 27.04288683, 27.04005831,\n",
       "       27.04388909, 27.04384398, 28.41671943, 27.01757625, 27.03889456,\n",
       "       27.01793384, 26.99964035, 27.04444932, 27.01634683, 27.04399397,\n",
       "       27.0399273 , 27.0434449 , 27.04341404, 27.04436199, 27.03943934,\n",
       "       27.04422933, 27.01074361, 27.04398963, 27.03420274, 27.04360486,\n",
       "       27.04285637, 27.04261167, 27.03970573, 27.0430076 , 27.0335051 ,\n",
       "       27.04430939, 29.90204469, 29.9093583 , 27.03996662, 27.04476929,\n",
       "       29.91841001, 27.04288834, 27.04525236, 27.00426325, 27.03371973,\n",
       "       27.0441241 , 27.04469933, 27.0232671 , 27.03494045, 27.04407292,\n",
       "       27.03965963, 27.0437679 , 27.02897461, 27.04333537, 27.04407757,\n",
       "       27.04365778, 27.02042608])"
      ]
     },
     "execution_count": 162,
     "metadata": {},
     "output_type": "execute_result"
    }
   ],
   "source": [
    "import warnings\n",
    "warnings.filterwarnings('ignore')\n",
    "y_pred = GSCV.predict(X_test_scaled)\n",
    "y_pred "
   ]
  },
  {
   "cell_type": "code",
   "execution_count": 164,
   "id": "df7ad262-b864-4885-a3ac-3add0d5e0895",
   "metadata": {},
   "outputs": [
    {
     "name": "stdout",
     "output_type": "stream",
     "text": [
      "R2_Score : -0.16848462398392794\n",
      "MSE : 124.64533892918814\n",
      "MAE : 9.303709543663448\n"
     ]
    }
   ],
   "source": [
    "print('R2_Score :',r2_score(y_test,y_pred))\n",
    "print('MSE :',mean_squared_error(y_test,y_pred))\n",
    "print('MAE :',mean_absolute_error(y_test,y_pred))"
   ]
  },
  {
   "cell_type": "code",
   "execution_count": 165,
   "id": "a50248a9-2484-4867-b118-8b6797fee7d3",
   "metadata": {},
   "outputs": [],
   "source": [
    "# Q5. Write a Python code snippet to implement the KNN classifier algorithm with weighted voting on\n",
    "# load_iris dataset in sklearn.datasets.\n",
    "from sklearn.datasets import load_iris\n",
    "X,y = load_iris(return_X_y=True)"
   ]
  },
  {
   "cell_type": "code",
   "execution_count": 166,
   "id": "3430ece3-e818-4a9c-96e7-5db146ed0d21",
   "metadata": {},
   "outputs": [],
   "source": [
    "from sklearn.model_selection import train_test_split\n",
    "X_train,X_test,y_train,y_test = train_test_split(X,y,test_size=0.33,random_state=40)"
   ]
  },
  {
   "cell_type": "code",
   "execution_count": 167,
   "id": "362cbbf6-00ce-4190-a787-542a6a111a46",
   "metadata": {},
   "outputs": [],
   "source": [
    "# Feature Scailing\n",
    "from sklearn.preprocessing import StandardScaler\n",
    "scaler = StandardScaler()\n",
    "X_train_scaled = scaler.fit_transform(X_train)\n",
    "X_test_scaled = scaler.transform(X_test)"
   ]
  },
  {
   "cell_type": "code",
   "execution_count": 168,
   "id": "7764c466-3e90-40bc-9af8-78f478d235ef",
   "metadata": {},
   "outputs": [
    {
     "data": {
      "text/html": [
       "<style>#sk-container-id-14 {color: black;background-color: white;}#sk-container-id-14 pre{padding: 0;}#sk-container-id-14 div.sk-toggleable {background-color: white;}#sk-container-id-14 label.sk-toggleable__label {cursor: pointer;display: block;width: 100%;margin-bottom: 0;padding: 0.3em;box-sizing: border-box;text-align: center;}#sk-container-id-14 label.sk-toggleable__label-arrow:before {content: \"▸\";float: left;margin-right: 0.25em;color: #696969;}#sk-container-id-14 label.sk-toggleable__label-arrow:hover:before {color: black;}#sk-container-id-14 div.sk-estimator:hover label.sk-toggleable__label-arrow:before {color: black;}#sk-container-id-14 div.sk-toggleable__content {max-height: 0;max-width: 0;overflow: hidden;text-align: left;background-color: #f0f8ff;}#sk-container-id-14 div.sk-toggleable__content pre {margin: 0.2em;color: black;border-radius: 0.25em;background-color: #f0f8ff;}#sk-container-id-14 input.sk-toggleable__control:checked~div.sk-toggleable__content {max-height: 200px;max-width: 100%;overflow: auto;}#sk-container-id-14 input.sk-toggleable__control:checked~label.sk-toggleable__label-arrow:before {content: \"▾\";}#sk-container-id-14 div.sk-estimator input.sk-toggleable__control:checked~label.sk-toggleable__label {background-color: #d4ebff;}#sk-container-id-14 div.sk-label input.sk-toggleable__control:checked~label.sk-toggleable__label {background-color: #d4ebff;}#sk-container-id-14 input.sk-hidden--visually {border: 0;clip: rect(1px 1px 1px 1px);clip: rect(1px, 1px, 1px, 1px);height: 1px;margin: -1px;overflow: hidden;padding: 0;position: absolute;width: 1px;}#sk-container-id-14 div.sk-estimator {font-family: monospace;background-color: #f0f8ff;border: 1px dotted black;border-radius: 0.25em;box-sizing: border-box;margin-bottom: 0.5em;}#sk-container-id-14 div.sk-estimator:hover {background-color: #d4ebff;}#sk-container-id-14 div.sk-parallel-item::after {content: \"\";width: 100%;border-bottom: 1px solid gray;flex-grow: 1;}#sk-container-id-14 div.sk-label:hover label.sk-toggleable__label {background-color: #d4ebff;}#sk-container-id-14 div.sk-serial::before {content: \"\";position: absolute;border-left: 1px solid gray;box-sizing: border-box;top: 0;bottom: 0;left: 50%;z-index: 0;}#sk-container-id-14 div.sk-serial {display: flex;flex-direction: column;align-items: center;background-color: white;padding-right: 0.2em;padding-left: 0.2em;position: relative;}#sk-container-id-14 div.sk-item {position: relative;z-index: 1;}#sk-container-id-14 div.sk-parallel {display: flex;align-items: stretch;justify-content: center;background-color: white;position: relative;}#sk-container-id-14 div.sk-item::before, #sk-container-id-14 div.sk-parallel-item::before {content: \"\";position: absolute;border-left: 1px solid gray;box-sizing: border-box;top: 0;bottom: 0;left: 50%;z-index: -1;}#sk-container-id-14 div.sk-parallel-item {display: flex;flex-direction: column;z-index: 1;position: relative;background-color: white;}#sk-container-id-14 div.sk-parallel-item:first-child::after {align-self: flex-end;width: 50%;}#sk-container-id-14 div.sk-parallel-item:last-child::after {align-self: flex-start;width: 50%;}#sk-container-id-14 div.sk-parallel-item:only-child::after {width: 0;}#sk-container-id-14 div.sk-dashed-wrapped {border: 1px dashed gray;margin: 0 0.4em 0.5em 0.4em;box-sizing: border-box;padding-bottom: 0.4em;background-color: white;}#sk-container-id-14 div.sk-label label {font-family: monospace;font-weight: bold;display: inline-block;line-height: 1.2em;}#sk-container-id-14 div.sk-label-container {text-align: center;}#sk-container-id-14 div.sk-container {/* jupyter's `normalize.less` sets `[hidden] { display: none; }` but bootstrap.min.css set `[hidden] { display: none !important; }` so we also need the `!important` here to be able to override the default hidden behavior on the sphinx rendered scikit-learn.org. See: https://github.com/scikit-learn/scikit-learn/issues/21755 */display: inline-block !important;position: relative;}#sk-container-id-14 div.sk-text-repr-fallback {display: none;}</style><div id=\"sk-container-id-14\" class=\"sk-top-container\"><div class=\"sk-text-repr-fallback\"><pre>KNeighborsClassifier(weights=&#x27;distance&#x27;)</pre><b>In a Jupyter environment, please rerun this cell to show the HTML representation or trust the notebook. <br />On GitHub, the HTML representation is unable to render, please try loading this page with nbviewer.org.</b></div><div class=\"sk-container\" hidden><div class=\"sk-item\"><div class=\"sk-estimator sk-toggleable\"><input class=\"sk-toggleable__control sk-hidden--visually\" id=\"sk-estimator-id-24\" type=\"checkbox\" checked><label for=\"sk-estimator-id-24\" class=\"sk-toggleable__label sk-toggleable__label-arrow\">KNeighborsClassifier</label><div class=\"sk-toggleable__content\"><pre>KNeighborsClassifier(weights=&#x27;distance&#x27;)</pre></div></div></div></div></div>"
      ],
      "text/plain": [
       "KNeighborsClassifier(weights='distance')"
      ]
     },
     "execution_count": 168,
     "metadata": {},
     "output_type": "execute_result"
    }
   ],
   "source": [
    "from sklearn.neighbors import KNeighborsClassifier\n",
    "KNClas = KNeighborsClassifier(n_neighbors=5,weights='distance')\n",
    "KNClas.fit(X_train_scaled,y_train)"
   ]
  },
  {
   "cell_type": "code",
   "execution_count": 169,
   "id": "32e3fd23-8673-4ab4-bb96-3b8ba257e2e8",
   "metadata": {},
   "outputs": [
    {
     "data": {
      "text/plain": [
       "array([0, 1, 2, 2, 1, 2, 2, 1, 1, 0, 1, 0, 0, 2, 1, 2, 2, 2, 1, 1, 2, 2,\n",
       "       1, 0, 1, 0, 0, 2, 0, 1, 1, 0, 0, 0, 0, 2, 0, 0, 2, 0, 0, 1, 2, 2,\n",
       "       2, 0, 2, 1, 1, 0])"
      ]
     },
     "execution_count": 169,
     "metadata": {},
     "output_type": "execute_result"
    }
   ],
   "source": [
    "y_pred = KNClas.predict(X_test_scaled)\n",
    "y_pred"
   ]
  },
  {
   "cell_type": "code",
   "execution_count": 170,
   "id": "c5404396-cd57-4dab-a567-fdf394f25d70",
   "metadata": {},
   "outputs": [
    {
     "name": "stdout",
     "output_type": "stream",
     "text": [
      "Accuracy_Score : 0.96\n",
      "Confusion_Matrix :\n",
      " [[18  0  0]\n",
      " [ 0 14  1]\n",
      " [ 0  1 16]]\n",
      "\n",
      "Classification_Report :\n",
      "               precision    recall  f1-score   support\n",
      "\n",
      "           0       1.00      1.00      1.00        18\n",
      "           1       0.93      0.93      0.93        15\n",
      "           2       0.94      0.94      0.94        17\n",
      "\n",
      "    accuracy                           0.96        50\n",
      "   macro avg       0.96      0.96      0.96        50\n",
      "weighted avg       0.96      0.96      0.96        50\n",
      "\n"
     ]
    }
   ],
   "source": [
    "from sklearn.metrics import accuracy_score,classification_report,confusion_matrix\n",
    "print('Accuracy_Score :',accuracy_score(y_test,y_pred))\n",
    "print('Confusion_Matrix :\\n',confusion_matrix(y_test,y_pred))\n",
    "print('\\nClassification_Report :\\n',classification_report(y_test,y_pred))"
   ]
  },
  {
   "cell_type": "code",
   "execution_count": 201,
   "id": "86924923-1a49-4b9d-85af-1552fec846ef",
   "metadata": {},
   "outputs": [],
   "source": [
    "# Q6. Implement a function to standardise the features before applying KNN classifier.\n",
    "from sklearn.preprocessing import StandardScaler\n",
    "from sklearn.neighbors import KNeighborsClassifier\n",
    "from sklearn.model_selection import train_test_split\n",
    "from sklearn.metrics import accuracy_score,confusion_matrix,classification_report\n",
    "\n",
    "def standard_and_KNN(X,y,n_neighbors=6):\n",
    "    # train test split\n",
    "    X_train, X_test, y_train, y_test = train_test_split(X,y,test_size=0.33,random_state=42)\n",
    "    \n",
    "    # Standard sciling\n",
    "    scalar = StandardScaler()\n",
    "    X_train_sclaed = scalar.fit_transform(X_train)\n",
    "    X_test_sclaed = scalar.transform(X_test)\n",
    "    \n",
    "    # Model Training\n",
    "    Knn = KNeighborsClassifier(n_neighbors=n_neighbors)\n",
    "    Knn.fit(X_train_sclaed,y_train)\n",
    "    \n",
    "    # Model prediction\n",
    "    y_pred = Knn.predict(X_test_sclaed)\n",
    "    \n",
    "    # Model accuracy,classification_report and confusion_matrix\n",
    "    print('Accuracy Score :',accuracy_score(y_test,y_pred))\n",
    "    print('\\nConfusion Matrix :\\n',confusion_matrix(y_test,y_pred))\n",
    "    print('\\nClassification Report :\\n',classification_report(y_test,y_pred))\n",
    "    \n",
    "    return y_pred,Knn"
   ]
  },
  {
   "cell_type": "code",
   "execution_count": 202,
   "id": "3ef3c927-0973-4579-8d03-ba5cc2f12a1e",
   "metadata": {},
   "outputs": [],
   "source": [
    "from sklearn.datasets import load_breast_cancer\n",
    "X,y = load_breast_cancer(return_X_y=True)"
   ]
  },
  {
   "cell_type": "code",
   "execution_count": 208,
   "id": "e7cdc201-dee2-4eec-9306-886b672d16f9",
   "metadata": {},
   "outputs": [
    {
     "name": "stdout",
     "output_type": "stream",
     "text": [
      "Accuracy Score : 0.9574468085106383\n",
      "\n",
      "Confusion Matrix :\n",
      " [[ 64   3]\n",
      " [  5 116]]\n",
      "\n",
      "Classification Report :\n",
      "               precision    recall  f1-score   support\n",
      "\n",
      "           0       0.93      0.96      0.94        67\n",
      "           1       0.97      0.96      0.97       121\n",
      "\n",
      "    accuracy                           0.96       188\n",
      "   macro avg       0.95      0.96      0.95       188\n",
      "weighted avg       0.96      0.96      0.96       188\n",
      "\n"
     ]
    }
   ],
   "source": [
    "y_pred,knn = standard_and_KNN(X,y,n_neighbors=6)"
   ]
  },
  {
   "cell_type": "code",
   "execution_count": 209,
   "id": "2f3a0f20-86ec-4ff7-90f1-be7f630572c3",
   "metadata": {},
   "outputs": [
    {
     "data": {
      "text/html": [
       "<style>#sk-container-id-15 {color: black;background-color: white;}#sk-container-id-15 pre{padding: 0;}#sk-container-id-15 div.sk-toggleable {background-color: white;}#sk-container-id-15 label.sk-toggleable__label {cursor: pointer;display: block;width: 100%;margin-bottom: 0;padding: 0.3em;box-sizing: border-box;text-align: center;}#sk-container-id-15 label.sk-toggleable__label-arrow:before {content: \"▸\";float: left;margin-right: 0.25em;color: #696969;}#sk-container-id-15 label.sk-toggleable__label-arrow:hover:before {color: black;}#sk-container-id-15 div.sk-estimator:hover label.sk-toggleable__label-arrow:before {color: black;}#sk-container-id-15 div.sk-toggleable__content {max-height: 0;max-width: 0;overflow: hidden;text-align: left;background-color: #f0f8ff;}#sk-container-id-15 div.sk-toggleable__content pre {margin: 0.2em;color: black;border-radius: 0.25em;background-color: #f0f8ff;}#sk-container-id-15 input.sk-toggleable__control:checked~div.sk-toggleable__content {max-height: 200px;max-width: 100%;overflow: auto;}#sk-container-id-15 input.sk-toggleable__control:checked~label.sk-toggleable__label-arrow:before {content: \"▾\";}#sk-container-id-15 div.sk-estimator input.sk-toggleable__control:checked~label.sk-toggleable__label {background-color: #d4ebff;}#sk-container-id-15 div.sk-label input.sk-toggleable__control:checked~label.sk-toggleable__label {background-color: #d4ebff;}#sk-container-id-15 input.sk-hidden--visually {border: 0;clip: rect(1px 1px 1px 1px);clip: rect(1px, 1px, 1px, 1px);height: 1px;margin: -1px;overflow: hidden;padding: 0;position: absolute;width: 1px;}#sk-container-id-15 div.sk-estimator {font-family: monospace;background-color: #f0f8ff;border: 1px dotted black;border-radius: 0.25em;box-sizing: border-box;margin-bottom: 0.5em;}#sk-container-id-15 div.sk-estimator:hover {background-color: #d4ebff;}#sk-container-id-15 div.sk-parallel-item::after {content: \"\";width: 100%;border-bottom: 1px solid gray;flex-grow: 1;}#sk-container-id-15 div.sk-label:hover label.sk-toggleable__label {background-color: #d4ebff;}#sk-container-id-15 div.sk-serial::before {content: \"\";position: absolute;border-left: 1px solid gray;box-sizing: border-box;top: 0;bottom: 0;left: 50%;z-index: 0;}#sk-container-id-15 div.sk-serial {display: flex;flex-direction: column;align-items: center;background-color: white;padding-right: 0.2em;padding-left: 0.2em;position: relative;}#sk-container-id-15 div.sk-item {position: relative;z-index: 1;}#sk-container-id-15 div.sk-parallel {display: flex;align-items: stretch;justify-content: center;background-color: white;position: relative;}#sk-container-id-15 div.sk-item::before, #sk-container-id-15 div.sk-parallel-item::before {content: \"\";position: absolute;border-left: 1px solid gray;box-sizing: border-box;top: 0;bottom: 0;left: 50%;z-index: -1;}#sk-container-id-15 div.sk-parallel-item {display: flex;flex-direction: column;z-index: 1;position: relative;background-color: white;}#sk-container-id-15 div.sk-parallel-item:first-child::after {align-self: flex-end;width: 50%;}#sk-container-id-15 div.sk-parallel-item:last-child::after {align-self: flex-start;width: 50%;}#sk-container-id-15 div.sk-parallel-item:only-child::after {width: 0;}#sk-container-id-15 div.sk-dashed-wrapped {border: 1px dashed gray;margin: 0 0.4em 0.5em 0.4em;box-sizing: border-box;padding-bottom: 0.4em;background-color: white;}#sk-container-id-15 div.sk-label label {font-family: monospace;font-weight: bold;display: inline-block;line-height: 1.2em;}#sk-container-id-15 div.sk-label-container {text-align: center;}#sk-container-id-15 div.sk-container {/* jupyter's `normalize.less` sets `[hidden] { display: none; }` but bootstrap.min.css set `[hidden] { display: none !important; }` so we also need the `!important` here to be able to override the default hidden behavior on the sphinx rendered scikit-learn.org. See: https://github.com/scikit-learn/scikit-learn/issues/21755 */display: inline-block !important;position: relative;}#sk-container-id-15 div.sk-text-repr-fallback {display: none;}</style><div id=\"sk-container-id-15\" class=\"sk-top-container\"><div class=\"sk-text-repr-fallback\"><pre>KNeighborsClassifier(n_neighbors=6)</pre><b>In a Jupyter environment, please rerun this cell to show the HTML representation or trust the notebook. <br />On GitHub, the HTML representation is unable to render, please try loading this page with nbviewer.org.</b></div><div class=\"sk-container\" hidden><div class=\"sk-item\"><div class=\"sk-estimator sk-toggleable\"><input class=\"sk-toggleable__control sk-hidden--visually\" id=\"sk-estimator-id-25\" type=\"checkbox\" checked><label for=\"sk-estimator-id-25\" class=\"sk-toggleable__label sk-toggleable__label-arrow\">KNeighborsClassifier</label><div class=\"sk-toggleable__content\"><pre>KNeighborsClassifier(n_neighbors=6)</pre></div></div></div></div></div>"
      ],
      "text/plain": [
       "KNeighborsClassifier(n_neighbors=6)"
      ]
     },
     "execution_count": 209,
     "metadata": {},
     "output_type": "execute_result"
    }
   ],
   "source": [
    "knn"
   ]
  },
  {
   "cell_type": "code",
   "execution_count": 210,
   "id": "a57292c2-f240-4e34-bdff-d560e8a13e6f",
   "metadata": {},
   "outputs": [
    {
     "data": {
      "text/plain": [
       "array([1, 0, 0, 1, 1, 0, 0, 0, 0, 1, 1, 0, 1, 0, 1, 0, 1, 1, 1, 0, 1, 1,\n",
       "       0, 1, 1, 1, 1, 1, 1, 0, 1, 1, 1, 1, 1, 1, 0, 1, 0, 1, 1, 0, 1, 1,\n",
       "       1, 1, 1, 1, 1, 1, 0, 0, 0, 1, 1, 1, 1, 0, 0, 1, 1, 0, 0, 1, 1, 1,\n",
       "       0, 0, 1, 1, 0, 0, 1, 0, 1, 1, 1, 1, 1, 1, 0, 1, 0, 0, 0, 0, 0, 0,\n",
       "       1, 1, 1, 0, 1, 1, 1, 1, 0, 0, 1, 0, 0, 1, 0, 0, 1, 1, 1, 0, 1, 1,\n",
       "       0, 1, 1, 0, 1, 0, 1, 1, 1, 0, 1, 1, 1, 0, 1, 0, 0, 1, 1, 0, 0, 0,\n",
       "       1, 1, 1, 0, 1, 1, 1, 0, 1, 0, 1, 1, 0, 1, 0, 0, 0, 1, 0, 1, 1, 1,\n",
       "       1, 0, 0, 1, 1, 1, 1, 1, 1, 1, 1, 1, 1, 1, 1, 0, 1, 1, 1, 0, 1, 1,\n",
       "       0, 1, 1, 1, 1, 1, 1, 0, 0, 0, 0, 1])"
      ]
     },
     "execution_count": 210,
     "metadata": {},
     "output_type": "execute_result"
    }
   ],
   "source": [
    "y_pred"
   ]
  },
  {
   "cell_type": "code",
   "execution_count": 211,
   "id": "e5094744-f15c-4994-81f5-3716ae596df2",
   "metadata": {},
   "outputs": [],
   "source": [
    "# Q7. Write a Python function to calculate the euclidean distance between two points.\n",
    "import numpy as np\n",
    "def euclidean(point1,point2):\n",
    "    point1 = np.array(point1)\n",
    "    point2 = np.array(point2)\n",
    "    distance = np.sqrt(np.sum((point1-point2)**2))\n",
    "    return distance"
   ]
  },
  {
   "cell_type": "code",
   "execution_count": 218,
   "id": "8282c504-ecab-4cbe-aeee-7cab13f41b68",
   "metadata": {},
   "outputs": [
    {
     "name": "stdout",
     "output_type": "stream",
     "text": [
      "5.196152422706632\n"
     ]
    }
   ],
   "source": [
    "point1 = [1,2,3]\n",
    "point2 = [4,5,6]\n",
    "distance = euclidean(point1,point2)\n",
    "print(distance)"
   ]
  },
  {
   "cell_type": "code",
   "execution_count": 222,
   "id": "96dcd634-cd55-42f6-a1c5-e02c598ee57a",
   "metadata": {},
   "outputs": [],
   "source": [
    "# Q8. Write a Python function to calculate the manhattan distance between two points.\n",
    "import numpy as np\n",
    "def mahattan(point1,point2):\n",
    "    point1 = np.array(point1)\n",
    "    point2 = np.array(point2)\n",
    "    man_distance = np.sum(np.abs(point1-point2))\n",
    "    return man_distance"
   ]
  },
  {
   "cell_type": "code",
   "execution_count": 223,
   "id": "84e0d1d6-d4bb-42c8-908b-7d8442ec87c1",
   "metadata": {},
   "outputs": [
    {
     "name": "stdout",
     "output_type": "stream",
     "text": [
      "Manhattan distance: 3\n"
     ]
    }
   ],
   "source": [
    "point1 = [4,5,3]\n",
    "point2 = [2,6,3]\n",
    "man_distance = mahattan(point1,point2)\n",
    "print(\"Manhattan distance:\",man_distance)"
   ]
  },
  {
   "cell_type": "code",
   "execution_count": null,
   "id": "2f6ac559-0a3b-4ff9-96f5-b57fddd2b78c",
   "metadata": {},
   "outputs": [],
   "source": []
  }
 ],
 "metadata": {
  "kernelspec": {
   "display_name": "Python 3 (ipykernel)",
   "language": "python",
   "name": "python3"
  },
  "language_info": {
   "codemirror_mode": {
    "name": "ipython",
    "version": 3
   },
   "file_extension": ".py",
   "mimetype": "text/x-python",
   "name": "python",
   "nbconvert_exporter": "python",
   "pygments_lexer": "ipython3",
   "version": "3.10.8"
  }
 },
 "nbformat": 4,
 "nbformat_minor": 5
}
